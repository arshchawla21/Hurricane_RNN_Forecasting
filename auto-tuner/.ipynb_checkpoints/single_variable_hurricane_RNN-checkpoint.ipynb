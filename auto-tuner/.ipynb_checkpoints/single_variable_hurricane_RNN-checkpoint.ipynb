{
 "cells": [
  {
   "cell_type": "markdown",
   "id": "028811ef-b6df-4170-8a74-16f69a61df72",
   "metadata": {},
   "source": [
    "# Single Variable RNN Model for Hurricane Path Forestcasting"
   ]
  },
  {
   "cell_type": "code",
   "execution_count": null,
   "id": "d4483f75-512f-4ff7-b41f-c3df67a5770a",
   "metadata": {},
   "outputs": [],
   "source": [
    "pip install -r requirements.txt"
   ]
  },
  {
   "cell_type": "code",
   "execution_count": 1,
   "id": "380c3ce9-1a94-44de-b643-b5f148a32a53",
   "metadata": {},
   "outputs": [],
   "source": [
    "import requests\n",
    "import pandas as pd\n",
    "import numpy as np\n",
    "import tensorflow as tf\n",
    "from tensorflow.keras.models import Sequential\n",
    "from tensorflow.keras.layers import LSTM, Dense, Dropout\n",
    "from sklearn.model_selection import train_test_split\n",
    "from sklearn.preprocessing import MinMaxScaler\n",
    "import matplotlib.pyplot as plt"
   ]
  },
  {
   "cell_type": "markdown",
   "id": "783d8275-9982-4a2e-88d1-f86dda2d5d34",
   "metadata": {},
   "source": [
    "## Preproccessing Hurricane Data"
   ]
  },
  {
   "cell_type": "markdown",
   "id": "421adfaf-67e5-40e9-b298-83a3fa98b761",
   "metadata": {},
   "source": [
    "The aim here is to build and evaulate a range of, baseline, single variable RNNs for hurricane forecasting. Hence, the only data we require is location (in the form of Longitude and Latitude) and time, the rest may be omitted as follows."
   ]
  },
  {
   "cell_type": "code",
   "execution_count": 7,
   "id": "55949580-81df-48c5-bc87-cd42628289c5",
   "metadata": {},
   "outputs": [],
   "source": [
    "# Obtain Cyclone Data\n",
    "df = pd.read_csv(\"../raw-data/hurricaneData.csv\")"
   ]
  },
  {
   "cell_type": "code",
   "execution_count": 8,
   "id": "bfb534fa-ca98-4d59-85a6-a17e14826bf9",
   "metadata": {},
   "outputs": [
    {
     "data": {
      "text/html": [
       "<div>\n",
       "<style scoped>\n",
       "    .dataframe tbody tr th:only-of-type {\n",
       "        vertical-align: middle;\n",
       "    }\n",
       "\n",
       "    .dataframe tbody tr th {\n",
       "        vertical-align: top;\n",
       "    }\n",
       "\n",
       "    .dataframe thead th {\n",
       "        text-align: right;\n",
       "    }\n",
       "</style>\n",
       "<table border=\"1\" class=\"dataframe\">\n",
       "  <thead>\n",
       "    <tr style=\"text-align: right;\">\n",
       "      <th></th>\n",
       "      <th>SID</th>\n",
       "      <th>SEASON</th>\n",
       "      <th>NUMBER</th>\n",
       "      <th>BASIN</th>\n",
       "      <th>SUBBASIN</th>\n",
       "      <th>NAME</th>\n",
       "      <th>ISO_TIME</th>\n",
       "      <th>NATURE</th>\n",
       "      <th>LAT</th>\n",
       "      <th>LON</th>\n",
       "      <th>WMO_WIND</th>\n",
       "      <th>WMO_PRES</th>\n",
       "      <th>WMO_AGENCY</th>\n",
       "      <th>TRACK_TYPE</th>\n",
       "      <th>DIST2LAND</th>\n",
       "      <th>LANDFALL</th>\n",
       "      <th>IFLAG</th>\n",
       "    </tr>\n",
       "  </thead>\n",
       "  <tbody>\n",
       "    <tr>\n",
       "      <th>0</th>\n",
       "      <td>1884177N17124</td>\n",
       "      <td>1884</td>\n",
       "      <td>14</td>\n",
       "      <td>WP</td>\n",
       "      <td>MM</td>\n",
       "      <td>UNNAMED</td>\n",
       "      <td>1884-06-24 16:00:00</td>\n",
       "      <td>NR</td>\n",
       "      <td>16.5</td>\n",
       "      <td>124.0</td>\n",
       "      <td></td>\n",
       "      <td></td>\n",
       "      <td></td>\n",
       "      <td>main</td>\n",
       "      <td>165</td>\n",
       "      <td>145</td>\n",
       "      <td>___________O___</td>\n",
       "    </tr>\n",
       "    <tr>\n",
       "      <th>1</th>\n",
       "      <td>1884177N17124</td>\n",
       "      <td>1884</td>\n",
       "      <td>14</td>\n",
       "      <td>WP</td>\n",
       "      <td>MM</td>\n",
       "      <td>UNNAMED</td>\n",
       "      <td>1884-06-24 18:00:00</td>\n",
       "      <td>NR</td>\n",
       "      <td>16.5</td>\n",
       "      <td>123.8</td>\n",
       "      <td></td>\n",
       "      <td></td>\n",
       "      <td></td>\n",
       "      <td>main</td>\n",
       "      <td>145</td>\n",
       "      <td>111</td>\n",
       "      <td>___________P___</td>\n",
       "    </tr>\n",
       "    <tr>\n",
       "      <th>2</th>\n",
       "      <td>1884177N17124</td>\n",
       "      <td>1884</td>\n",
       "      <td>14</td>\n",
       "      <td>WP</td>\n",
       "      <td>MM</td>\n",
       "      <td>UNNAMED</td>\n",
       "      <td>1884-06-24 21:00:00</td>\n",
       "      <td>NR</td>\n",
       "      <td>16.6</td>\n",
       "      <td>123.5</td>\n",
       "      <td></td>\n",
       "      <td></td>\n",
       "      <td></td>\n",
       "      <td>main</td>\n",
       "      <td>111</td>\n",
       "      <td>77</td>\n",
       "      <td>___________P___</td>\n",
       "    </tr>\n",
       "    <tr>\n",
       "      <th>3</th>\n",
       "      <td>1884177N17124</td>\n",
       "      <td>1884</td>\n",
       "      <td>14</td>\n",
       "      <td>WP</td>\n",
       "      <td>MM</td>\n",
       "      <td>UNNAMED</td>\n",
       "      <td>1884-06-25 00:00:00</td>\n",
       "      <td>NR</td>\n",
       "      <td>16.7</td>\n",
       "      <td>123.2</td>\n",
       "      <td></td>\n",
       "      <td></td>\n",
       "      <td></td>\n",
       "      <td>main</td>\n",
       "      <td>77</td>\n",
       "      <td>44</td>\n",
       "      <td>___________P___</td>\n",
       "    </tr>\n",
       "    <tr>\n",
       "      <th>4</th>\n",
       "      <td>1884177N17124</td>\n",
       "      <td>1884</td>\n",
       "      <td>14</td>\n",
       "      <td>WP</td>\n",
       "      <td>MM</td>\n",
       "      <td>UNNAMED</td>\n",
       "      <td>1884-06-25 03:00:00</td>\n",
       "      <td>NR</td>\n",
       "      <td>16.8</td>\n",
       "      <td>122.9</td>\n",
       "      <td></td>\n",
       "      <td></td>\n",
       "      <td></td>\n",
       "      <td>main</td>\n",
       "      <td>44</td>\n",
       "      <td>33</td>\n",
       "      <td>___________P___</td>\n",
       "    </tr>\n",
       "  </tbody>\n",
       "</table>\n",
       "</div>"
      ],
      "text/plain": [
       "             SID  SEASON  NUMBER BASIN SUBBASIN     NAME             ISO_TIME  \\\n",
       "0  1884177N17124    1884      14    WP       MM  UNNAMED  1884-06-24 16:00:00   \n",
       "1  1884177N17124    1884      14    WP       MM  UNNAMED  1884-06-24 18:00:00   \n",
       "2  1884177N17124    1884      14    WP       MM  UNNAMED  1884-06-24 21:00:00   \n",
       "3  1884177N17124    1884      14    WP       MM  UNNAMED  1884-06-25 00:00:00   \n",
       "4  1884177N17124    1884      14    WP       MM  UNNAMED  1884-06-25 03:00:00   \n",
       "\n",
       "  NATURE   LAT    LON WMO_WIND WMO_PRES WMO_AGENCY TRACK_TYPE  DIST2LAND  \\\n",
       "0     NR  16.5  124.0                                    main        165   \n",
       "1     NR  16.5  123.8                                    main        145   \n",
       "2     NR  16.6  123.5                                    main        111   \n",
       "3     NR  16.7  123.2                                    main         77   \n",
       "4     NR  16.8  122.9                                    main         44   \n",
       "\n",
       "  LANDFALL            IFLAG  \n",
       "0      145  ___________O___  \n",
       "1      111  ___________P___  \n",
       "2       77  ___________P___  \n",
       "3       44  ___________P___  \n",
       "4       33  ___________P___  "
      ]
     },
     "execution_count": 8,
     "metadata": {},
     "output_type": "execute_result"
    }
   ],
   "source": [
    "df.head()"
   ]
  },
  {
   "cell_type": "code",
   "execution_count": 9,
   "id": "50300645-782c-4064-b284-35d491a11a0c",
   "metadata": {},
   "outputs": [],
   "source": [
    "# Drop all attributes, expect Longitude, Latitude, Time and SID\n",
    "simple_df = df.drop(['SEASON','NUMBER','BASIN','SUBBASIN','NAME','NATURE','WMO_WIND','WMO_PRES','WMO_AGENCY','TRACK_TYPE','DIST2LAND','LANDFALL','IFLAG'],axis=1)"
   ]
  },
  {
   "cell_type": "code",
   "execution_count": 10,
   "id": "61064761-be5b-4670-a798-e1430114b051",
   "metadata": {},
   "outputs": [
    {
     "data": {
      "text/html": [
       "<div>\n",
       "<style scoped>\n",
       "    .dataframe tbody tr th:only-of-type {\n",
       "        vertical-align: middle;\n",
       "    }\n",
       "\n",
       "    .dataframe tbody tr th {\n",
       "        vertical-align: top;\n",
       "    }\n",
       "\n",
       "    .dataframe thead th {\n",
       "        text-align: right;\n",
       "    }\n",
       "</style>\n",
       "<table border=\"1\" class=\"dataframe\">\n",
       "  <thead>\n",
       "    <tr style=\"text-align: right;\">\n",
       "      <th></th>\n",
       "      <th>SID</th>\n",
       "      <th>ISO_TIME</th>\n",
       "      <th>LAT</th>\n",
       "      <th>LON</th>\n",
       "    </tr>\n",
       "  </thead>\n",
       "  <tbody>\n",
       "    <tr>\n",
       "      <th>0</th>\n",
       "      <td>1884177N17124</td>\n",
       "      <td>1884-06-24 16:00:00</td>\n",
       "      <td>16.5</td>\n",
       "      <td>124.0</td>\n",
       "    </tr>\n",
       "    <tr>\n",
       "      <th>1</th>\n",
       "      <td>1884177N17124</td>\n",
       "      <td>1884-06-24 18:00:00</td>\n",
       "      <td>16.5</td>\n",
       "      <td>123.8</td>\n",
       "    </tr>\n",
       "    <tr>\n",
       "      <th>2</th>\n",
       "      <td>1884177N17124</td>\n",
       "      <td>1884-06-24 21:00:00</td>\n",
       "      <td>16.6</td>\n",
       "      <td>123.5</td>\n",
       "    </tr>\n",
       "    <tr>\n",
       "      <th>3</th>\n",
       "      <td>1884177N17124</td>\n",
       "      <td>1884-06-25 00:00:00</td>\n",
       "      <td>16.7</td>\n",
       "      <td>123.2</td>\n",
       "    </tr>\n",
       "    <tr>\n",
       "      <th>4</th>\n",
       "      <td>1884177N17124</td>\n",
       "      <td>1884-06-25 03:00:00</td>\n",
       "      <td>16.8</td>\n",
       "      <td>122.9</td>\n",
       "    </tr>\n",
       "  </tbody>\n",
       "</table>\n",
       "</div>"
      ],
      "text/plain": [
       "             SID             ISO_TIME   LAT    LON\n",
       "0  1884177N17124  1884-06-24 16:00:00  16.5  124.0\n",
       "1  1884177N17124  1884-06-24 18:00:00  16.5  123.8\n",
       "2  1884177N17124  1884-06-24 21:00:00  16.6  123.5\n",
       "3  1884177N17124  1884-06-25 00:00:00  16.7  123.2\n",
       "4  1884177N17124  1884-06-25 03:00:00  16.8  122.9"
      ]
     },
     "execution_count": 10,
     "metadata": {},
     "output_type": "execute_result"
    }
   ],
   "source": [
    "# Simplified dataframe\n",
    "simple_df.head()"
   ]
  },
  {
   "cell_type": "code",
   "execution_count": 11,
   "id": "234d504c-f0ff-4f97-8f31-4d4046e41b65",
   "metadata": {},
   "outputs": [],
   "source": [
    "# Drop all data points prior to year=1900\n",
    "simple_df = simple_df.iloc[9461:]"
   ]
  },
  {
   "cell_type": "code",
   "execution_count": 12,
   "id": "38104266-4af1-41e3-829d-24a7d191227f",
   "metadata": {},
   "outputs": [],
   "source": [
    "# Convert ISO_TIME to datetime\n",
    "simple_df['ISO_TIME'] = pd.to_datetime(simple_df['ISO_TIME'], format='%d/%m/%Y %H:%M')"
   ]
  },
  {
   "cell_type": "code",
   "execution_count": 15,
   "id": "a3d721e4-ce0a-4ee8-9688-d2d98ab6b48e",
   "metadata": {},
   "outputs": [],
   "source": [
    "# Convert longitudes and latitudes to x, y, z coordinates\n",
    "def FeatureColumnsXYZ(dframe):\n",
    "    dframe['x'] = np.cos(np.radians(dframe.LAT)) * np.cos(np.radians(dframe.LON))\n",
    "    dframe['y'] = np.cos(np.radians(dframe.LAT)) * np.sin(np.radians(dframe.LON))\n",
    "    dframe['z'] = np.sin(np.radians(dframe.LAT))\n",
    "    \n",
    "FeatureColumnsXYZ(simple_df)"
   ]
  },
  {
   "cell_type": "code",
   "execution_count": 17,
   "id": "f8b2d06d-dc04-4117-89ad-f393fc77070b",
   "metadata": {},
   "outputs": [
    {
     "data": {
      "text/html": [
       "<div>\n",
       "<style scoped>\n",
       "    .dataframe tbody tr th:only-of-type {\n",
       "        vertical-align: middle;\n",
       "    }\n",
       "\n",
       "    .dataframe tbody tr th {\n",
       "        vertical-align: top;\n",
       "    }\n",
       "\n",
       "    .dataframe thead th {\n",
       "        text-align: right;\n",
       "    }\n",
       "</style>\n",
       "<table border=\"1\" class=\"dataframe\">\n",
       "  <thead>\n",
       "    <tr style=\"text-align: right;\">\n",
       "      <th></th>\n",
       "      <th>SID</th>\n",
       "      <th>ISO_TIME</th>\n",
       "      <th>LAT</th>\n",
       "      <th>LON</th>\n",
       "      <th>x</th>\n",
       "      <th>y</th>\n",
       "      <th>z</th>\n",
       "    </tr>\n",
       "  </thead>\n",
       "  <tbody>\n",
       "    <tr>\n",
       "      <th>9461</th>\n",
       "      <td>1900171N15117</td>\n",
       "      <td>1900-06-19 18:00:00</td>\n",
       "      <td>15.4</td>\n",
       "      <td>117.2</td>\n",
       "      <td>-0.440686</td>\n",
       "      <td>0.857482</td>\n",
       "      <td>0.265556</td>\n",
       "    </tr>\n",
       "    <tr>\n",
       "      <th>9462</th>\n",
       "      <td>1900171N15117</td>\n",
       "      <td>1900-06-19 21:00:00</td>\n",
       "      <td>15.6</td>\n",
       "      <td>117.2</td>\n",
       "      <td>-0.440260</td>\n",
       "      <td>0.856653</td>\n",
       "      <td>0.268920</td>\n",
       "    </tr>\n",
       "    <tr>\n",
       "      <th>9463</th>\n",
       "      <td>1900171N15117</td>\n",
       "      <td>1900-06-20 00:00:00</td>\n",
       "      <td>15.9</td>\n",
       "      <td>117.0</td>\n",
       "      <td>-0.436621</td>\n",
       "      <td>0.856918</td>\n",
       "      <td>0.273959</td>\n",
       "    </tr>\n",
       "    <tr>\n",
       "      <th>9464</th>\n",
       "      <td>1900171N15117</td>\n",
       "      <td>1900-06-20 03:00:00</td>\n",
       "      <td>16.1</td>\n",
       "      <td>116.9</td>\n",
       "      <td>-0.434690</td>\n",
       "      <td>0.856820</td>\n",
       "      <td>0.277315</td>\n",
       "    </tr>\n",
       "    <tr>\n",
       "      <th>9465</th>\n",
       "      <td>1900171N15117</td>\n",
       "      <td>1900-06-20 04:00:00</td>\n",
       "      <td>16.2</td>\n",
       "      <td>116.8</td>\n",
       "      <td>-0.432975</td>\n",
       "      <td>0.857145</td>\n",
       "      <td>0.278991</td>\n",
       "    </tr>\n",
       "  </tbody>\n",
       "</table>\n",
       "</div>"
      ],
      "text/plain": [
       "                SID            ISO_TIME   LAT    LON         x         y  \\\n",
       "9461  1900171N15117 1900-06-19 18:00:00  15.4  117.2 -0.440686  0.857482   \n",
       "9462  1900171N15117 1900-06-19 21:00:00  15.6  117.2 -0.440260  0.856653   \n",
       "9463  1900171N15117 1900-06-20 00:00:00  15.9  117.0 -0.436621  0.856918   \n",
       "9464  1900171N15117 1900-06-20 03:00:00  16.1  116.9 -0.434690  0.856820   \n",
       "9465  1900171N15117 1900-06-20 04:00:00  16.2  116.8 -0.432975  0.857145   \n",
       "\n",
       "             z  \n",
       "9461  0.265556  \n",
       "9462  0.268920  \n",
       "9463  0.273959  \n",
       "9464  0.277315  \n",
       "9465  0.278991  "
      ]
     },
     "execution_count": 17,
     "metadata": {},
     "output_type": "execute_result"
    }
   ],
   "source": [
    "simple_df.head()"
   ]
  },
  {
   "cell_type": "markdown",
   "id": "3933021a-f13f-45d2-a93e-65ee650f892a",
   "metadata": {},
   "source": [
    "We must now remove all hurricanes in the dataset with too few datapoints (<15)"
   ]
  },
  {
   "cell_type": "code",
   "execution_count": 18,
   "id": "68014fba-b2e5-43f0-943c-de108df8b62a",
   "metadata": {},
   "outputs": [],
   "source": [
    "SID_values = []\n",
    "for value in simple_df['SID']:\n",
    "    if value not in SID_values:\n",
    "        SID_values.append(value)"
   ]
  },
  {
   "cell_type": "code",
   "execution_count": 19,
   "id": "fbea8492-d6ed-4841-ad50-1a313736e1a7",
   "metadata": {},
   "outputs": [],
   "source": [
    "grouped = simple_df.groupby('SID')"
   ]
  },
  {
   "cell_type": "code",
   "execution_count": 20,
   "id": "a7fc0434-fe44-4c53-9c1a-a1b8c81417cf",
   "metadata": {},
   "outputs": [],
   "source": [
    "# remove all hurricanes with less than 15 data points approx ~200\n",
    "SID_to_drop = []\n",
    "for value in SID_values:\n",
    "    if len(grouped.groups[value]) < 15:\n",
    "        if value not in SID_to_drop:\n",
    "            SID_to_drop.append(value)"
   ]
  },
  {
   "cell_type": "code",
   "execution_count": 21,
   "id": "cc8a33dc-267c-4d8a-94f8-3473e9867165",
   "metadata": {},
   "outputs": [],
   "source": [
    "def drop_rows_by_sid(df, sid_list):\n",
    "    # Drop rows where the SID is in the sid_list\n",
    "    df_filtered = df[~df['SID'].isin(sid_list)]\n",
    "    \n",
    "    return df_filtered\n",
    "simple_df = drop_rows_by_sid(simple_df,SID_to_drop)"
   ]
  },
  {
   "cell_type": "code",
   "execution_count": 22,
   "id": "d5880a85-5b87-45ee-86bc-7dd5fc946356",
   "metadata": {},
   "outputs": [],
   "source": [
    "grouped = simple_df.groupby('SID')"
   ]
  },
  {
   "cell_type": "code",
   "execution_count": 23,
   "id": "8a36f38d-a924-4fbd-92cc-1fa99b4a8876",
   "metadata": {},
   "outputs": [],
   "source": [
    "countSID = []\n",
    "for value in simple_df['SID']:\n",
    "    if value not in countSID:\n",
    "        countSID.append(value)"
   ]
  },
  {
   "cell_type": "code",
   "execution_count": 24,
   "id": "2f1d81ac-5203-497c-b1f0-111bd669a259",
   "metadata": {},
   "outputs": [
    {
     "name": "stdout",
     "output_type": "stream",
     "text": [
      "original: 3913\n",
      "new: 3713\n"
     ]
    }
   ],
   "source": [
    "# Confirm number of removed hurricanes\n",
    "print(\"original: \" + str(len(SID_values)))\n",
    "print(\"new: \" + str(len(countSID))) "
   ]
  },
  {
   "cell_type": "markdown",
   "id": "306d5ac9-e2d5-4da6-8f9e-e314e4d08376",
   "metadata": {},
   "source": [
    "## Building the Model"
   ]
  },
  {
   "cell_type": "code",
   "execution_count": 29,
   "id": "8ada5335-f538-488a-af0d-bda56e71bb12",
   "metadata": {},
   "outputs": [],
   "source": [
    "def create_sequences(df, window_size=5):\n",
    "    sequences = []\n",
    "    targets = []\n",
    "    grouped = df.groupby('SID')\n",
    "    \n",
    "    for _, group in grouped:\n",
    "        for i in range(len(group) - window_size):\n",
    "            seq = group[['x', 'y', 'z']].iloc[i:i+window_size].values\n",
    "            target = group[['x', 'y', 'z']].iloc[i+window_size].values\n",
    "            sequences.append(seq)\n",
    "            targets.append(target)\n",
    "    \n",
    "    return np.array(sequences), np.array(targets)"
   ]
  },
  {
   "cell_type": "code",
   "execution_count": 30,
   "id": "d72368d0-1aee-4bfd-b2b7-7ebd29b435ed",
   "metadata": {},
   "outputs": [],
   "source": [
    "window_size = 5\n",
    "X, y = create_sequences(simple_df, window_size)"
   ]
  },
  {
   "cell_type": "code",
   "execution_count": 31,
   "id": "704e102b-4757-4796-b6ce-43cb0c421ac4",
   "metadata": {},
   "outputs": [],
   "source": [
    "## Split the data into training and evaluation\n",
    "X_train, X_eval, y_train, y_eval = train_test_split(X, y, test_size=0.2)"
   ]
  },
  {
   "cell_type": "code",
   "execution_count": 34,
   "id": "64034ddf-e794-458f-9b8e-6a284bb61103",
   "metadata": {},
   "outputs": [
    {
     "name": "stdout",
     "output_type": "stream",
     "text": [
      "(171000, 5, 3)\n",
      "(171000, 3)\n",
      "(42750, 5, 3)\n",
      "(42750, 3)\n"
     ]
    }
   ],
   "source": [
    "# Understand data shape\n",
    "print(X_train.shape)\n",
    "print(y_train.shape)\n",
    "print(X_eval.shape)\n",
    "print(y_eval.shape)"
   ]
  },
  {
   "cell_type": "code",
   "execution_count": 35,
   "id": "6e02020a-36b7-4194-97aa-5bc382200f0a",
   "metadata": {},
   "outputs": [],
   "source": [
    "def build_model(input_shape):\n",
    "    model = Sequential()\n",
    "    model.add(LSTM(32, return_sequences=True, input_shape=input_shape))\n",
    "    model.add(Dropout(0.2))\n",
    "    model.add(LSTM(32, return_sequences=False))\n",
    "    model.add(Dropout(0.2))\n",
    "    model.add(Dense(32, activation='relu'))\n",
    "    model.add(Dense(3))  # Predicting x, y, z coordinates\n",
    "    model.compile(optimizer='adam', loss='mse')\n",
    "    return model"
   ]
  },
  {
   "cell_type": "code",
   "execution_count": 36,
   "id": "476e6ff3-387e-4f0f-a585-e4e035b1ac10",
   "metadata": {},
   "outputs": [
    {
     "name": "stderr",
     "output_type": "stream",
     "text": [
      "/opt/homebrew/Cellar/jupyterlab/4.2.3/libexec/lib/python3.12/site-packages/keras/src/layers/rnn/rnn.py:204: UserWarning: Do not pass an `input_shape`/`input_dim` argument to a layer. When using Sequential models, prefer using an `Input(shape)` object as the first layer in the model instead.\n",
      "  super().__init__(**kwargs)\n"
     ]
    }
   ],
   "source": [
    "model = build_model(input_shape=(X_train.shape[1], X_train.shape[2]))"
   ]
  },
  {
   "cell_type": "code",
   "execution_count": 37,
   "id": "a324ba45-07c1-4725-845c-b42da0f28e67",
   "metadata": {},
   "outputs": [
    {
     "data": {
      "text/html": [
       "<pre style=\"white-space:pre;overflow-x:auto;line-height:normal;font-family:Menlo,'DejaVu Sans Mono',consolas,'Courier New',monospace\"><span style=\"font-weight: bold\">Model: \"sequential\"</span>\n",
       "</pre>\n"
      ],
      "text/plain": [
       "\u001b[1mModel: \"sequential\"\u001b[0m\n"
      ]
     },
     "metadata": {},
     "output_type": "display_data"
    },
    {
     "data": {
      "text/html": [
       "<pre style=\"white-space:pre;overflow-x:auto;line-height:normal;font-family:Menlo,'DejaVu Sans Mono',consolas,'Courier New',monospace\">┏━━━━━━━━━━━━━━━━━━━━━━━━━━━━━━━━━┳━━━━━━━━━━━━━━━━━━━━━━━━┳━━━━━━━━━━━━━━━┓\n",
       "┃<span style=\"font-weight: bold\"> Layer (type)                    </span>┃<span style=\"font-weight: bold\"> Output Shape           </span>┃<span style=\"font-weight: bold\">       Param # </span>┃\n",
       "┡━━━━━━━━━━━━━━━━━━━━━━━━━━━━━━━━━╇━━━━━━━━━━━━━━━━━━━━━━━━╇━━━━━━━━━━━━━━━┩\n",
       "│ lstm (<span style=\"color: #0087ff; text-decoration-color: #0087ff\">LSTM</span>)                     │ (<span style=\"color: #00d7ff; text-decoration-color: #00d7ff\">None</span>, <span style=\"color: #00af00; text-decoration-color: #00af00\">5</span>, <span style=\"color: #00af00; text-decoration-color: #00af00\">32</span>)          │         <span style=\"color: #00af00; text-decoration-color: #00af00\">4,608</span> │\n",
       "├─────────────────────────────────┼────────────────────────┼───────────────┤\n",
       "│ dropout (<span style=\"color: #0087ff; text-decoration-color: #0087ff\">Dropout</span>)               │ (<span style=\"color: #00d7ff; text-decoration-color: #00d7ff\">None</span>, <span style=\"color: #00af00; text-decoration-color: #00af00\">5</span>, <span style=\"color: #00af00; text-decoration-color: #00af00\">32</span>)          │             <span style=\"color: #00af00; text-decoration-color: #00af00\">0</span> │\n",
       "├─────────────────────────────────┼────────────────────────┼───────────────┤\n",
       "│ lstm_1 (<span style=\"color: #0087ff; text-decoration-color: #0087ff\">LSTM</span>)                   │ (<span style=\"color: #00d7ff; text-decoration-color: #00d7ff\">None</span>, <span style=\"color: #00af00; text-decoration-color: #00af00\">32</span>)             │         <span style=\"color: #00af00; text-decoration-color: #00af00\">8,320</span> │\n",
       "├─────────────────────────────────┼────────────────────────┼───────────────┤\n",
       "│ dropout_1 (<span style=\"color: #0087ff; text-decoration-color: #0087ff\">Dropout</span>)             │ (<span style=\"color: #00d7ff; text-decoration-color: #00d7ff\">None</span>, <span style=\"color: #00af00; text-decoration-color: #00af00\">32</span>)             │             <span style=\"color: #00af00; text-decoration-color: #00af00\">0</span> │\n",
       "├─────────────────────────────────┼────────────────────────┼───────────────┤\n",
       "│ dense (<span style=\"color: #0087ff; text-decoration-color: #0087ff\">Dense</span>)                   │ (<span style=\"color: #00d7ff; text-decoration-color: #00d7ff\">None</span>, <span style=\"color: #00af00; text-decoration-color: #00af00\">32</span>)             │         <span style=\"color: #00af00; text-decoration-color: #00af00\">1,056</span> │\n",
       "├─────────────────────────────────┼────────────────────────┼───────────────┤\n",
       "│ dense_1 (<span style=\"color: #0087ff; text-decoration-color: #0087ff\">Dense</span>)                 │ (<span style=\"color: #00d7ff; text-decoration-color: #00d7ff\">None</span>, <span style=\"color: #00af00; text-decoration-color: #00af00\">3</span>)              │            <span style=\"color: #00af00; text-decoration-color: #00af00\">99</span> │\n",
       "└─────────────────────────────────┴────────────────────────┴───────────────┘\n",
       "</pre>\n"
      ],
      "text/plain": [
       "┏━━━━━━━━━━━━━━━━━━━━━━━━━━━━━━━━━┳━━━━━━━━━━━━━━━━━━━━━━━━┳━━━━━━━━━━━━━━━┓\n",
       "┃\u001b[1m \u001b[0m\u001b[1mLayer (type)                   \u001b[0m\u001b[1m \u001b[0m┃\u001b[1m \u001b[0m\u001b[1mOutput Shape          \u001b[0m\u001b[1m \u001b[0m┃\u001b[1m \u001b[0m\u001b[1m      Param #\u001b[0m\u001b[1m \u001b[0m┃\n",
       "┡━━━━━━━━━━━━━━━━━━━━━━━━━━━━━━━━━╇━━━━━━━━━━━━━━━━━━━━━━━━╇━━━━━━━━━━━━━━━┩\n",
       "│ lstm (\u001b[38;5;33mLSTM\u001b[0m)                     │ (\u001b[38;5;45mNone\u001b[0m, \u001b[38;5;34m5\u001b[0m, \u001b[38;5;34m32\u001b[0m)          │         \u001b[38;5;34m4,608\u001b[0m │\n",
       "├─────────────────────────────────┼────────────────────────┼───────────────┤\n",
       "│ dropout (\u001b[38;5;33mDropout\u001b[0m)               │ (\u001b[38;5;45mNone\u001b[0m, \u001b[38;5;34m5\u001b[0m, \u001b[38;5;34m32\u001b[0m)          │             \u001b[38;5;34m0\u001b[0m │\n",
       "├─────────────────────────────────┼────────────────────────┼───────────────┤\n",
       "│ lstm_1 (\u001b[38;5;33mLSTM\u001b[0m)                   │ (\u001b[38;5;45mNone\u001b[0m, \u001b[38;5;34m32\u001b[0m)             │         \u001b[38;5;34m8,320\u001b[0m │\n",
       "├─────────────────────────────────┼────────────────────────┼───────────────┤\n",
       "│ dropout_1 (\u001b[38;5;33mDropout\u001b[0m)             │ (\u001b[38;5;45mNone\u001b[0m, \u001b[38;5;34m32\u001b[0m)             │             \u001b[38;5;34m0\u001b[0m │\n",
       "├─────────────────────────────────┼────────────────────────┼───────────────┤\n",
       "│ dense (\u001b[38;5;33mDense\u001b[0m)                   │ (\u001b[38;5;45mNone\u001b[0m, \u001b[38;5;34m32\u001b[0m)             │         \u001b[38;5;34m1,056\u001b[0m │\n",
       "├─────────────────────────────────┼────────────────────────┼───────────────┤\n",
       "│ dense_1 (\u001b[38;5;33mDense\u001b[0m)                 │ (\u001b[38;5;45mNone\u001b[0m, \u001b[38;5;34m3\u001b[0m)              │            \u001b[38;5;34m99\u001b[0m │\n",
       "└─────────────────────────────────┴────────────────────────┴───────────────┘\n"
      ]
     },
     "metadata": {},
     "output_type": "display_data"
    },
    {
     "data": {
      "text/html": [
       "<pre style=\"white-space:pre;overflow-x:auto;line-height:normal;font-family:Menlo,'DejaVu Sans Mono',consolas,'Courier New',monospace\"><span style=\"font-weight: bold\"> Total params: </span><span style=\"color: #00af00; text-decoration-color: #00af00\">14,083</span> (55.01 KB)\n",
       "</pre>\n"
      ],
      "text/plain": [
       "\u001b[1m Total params: \u001b[0m\u001b[38;5;34m14,083\u001b[0m (55.01 KB)\n"
      ]
     },
     "metadata": {},
     "output_type": "display_data"
    },
    {
     "data": {
      "text/html": [
       "<pre style=\"white-space:pre;overflow-x:auto;line-height:normal;font-family:Menlo,'DejaVu Sans Mono',consolas,'Courier New',monospace\"><span style=\"font-weight: bold\"> Trainable params: </span><span style=\"color: #00af00; text-decoration-color: #00af00\">14,083</span> (55.01 KB)\n",
       "</pre>\n"
      ],
      "text/plain": [
       "\u001b[1m Trainable params: \u001b[0m\u001b[38;5;34m14,083\u001b[0m (55.01 KB)\n"
      ]
     },
     "metadata": {},
     "output_type": "display_data"
    },
    {
     "data": {
      "text/html": [
       "<pre style=\"white-space:pre;overflow-x:auto;line-height:normal;font-family:Menlo,'DejaVu Sans Mono',consolas,'Courier New',monospace\"><span style=\"font-weight: bold\"> Non-trainable params: </span><span style=\"color: #00af00; text-decoration-color: #00af00\">0</span> (0.00 B)\n",
       "</pre>\n"
      ],
      "text/plain": [
       "\u001b[1m Non-trainable params: \u001b[0m\u001b[38;5;34m0\u001b[0m (0.00 B)\n"
      ]
     },
     "metadata": {},
     "output_type": "display_data"
    }
   ],
   "source": [
    "model.summary()"
   ]
  },
  {
   "cell_type": "code",
   "execution_count": 38,
   "id": "618db4f7-4caa-448b-a198-a328dd23982d",
   "metadata": {},
   "outputs": [
    {
     "name": "stdout",
     "output_type": "stream",
     "text": [
      "Epoch 1/15\n",
      "\u001b[1m5344/5344\u001b[0m \u001b[32m━━━━━━━━━━━━━━━━━━━━\u001b[0m\u001b[37m\u001b[0m \u001b[1m16s\u001b[0m 3ms/step - loss: 0.0118 - val_loss: 3.1644e-04\n",
      "Epoch 2/15\n",
      "\u001b[1m5344/5344\u001b[0m \u001b[32m━━━━━━━━━━━━━━━━━━━━\u001b[0m\u001b[37m\u001b[0m \u001b[1m14s\u001b[0m 3ms/step - loss: 7.4948e-04 - val_loss: 2.1945e-04\n",
      "Epoch 3/15\n",
      "\u001b[1m5344/5344\u001b[0m \u001b[32m━━━━━━━━━━━━━━━━━━━━\u001b[0m\u001b[37m\u001b[0m \u001b[1m14s\u001b[0m 3ms/step - loss: 4.8433e-04 - val_loss: 5.2047e-04\n",
      "Epoch 4/15\n",
      "\u001b[1m5344/5344\u001b[0m \u001b[32m━━━━━━━━━━━━━━━━━━━━\u001b[0m\u001b[37m\u001b[0m \u001b[1m14s\u001b[0m 3ms/step - loss: 3.6760e-04 - val_loss: 8.2933e-04\n",
      "Epoch 5/15\n",
      "\u001b[1m5344/5344\u001b[0m \u001b[32m━━━━━━━━━━━━━━━━━━━━\u001b[0m\u001b[37m\u001b[0m \u001b[1m14s\u001b[0m 3ms/step - loss: 3.1611e-04 - val_loss: 0.0014\n",
      "Epoch 6/15\n",
      "\u001b[1m5344/5344\u001b[0m \u001b[32m━━━━━━━━━━━━━━━━━━━━\u001b[0m\u001b[37m\u001b[0m \u001b[1m14s\u001b[0m 3ms/step - loss: 2.7719e-04 - val_loss: 0.0014\n",
      "Epoch 7/15\n",
      "\u001b[1m5344/5344\u001b[0m \u001b[32m━━━━━━━━━━━━━━━━━━━━\u001b[0m\u001b[37m\u001b[0m \u001b[1m14s\u001b[0m 3ms/step - loss: 2.5279e-04 - val_loss: 0.0015\n",
      "Epoch 8/15\n",
      "\u001b[1m5344/5344\u001b[0m \u001b[32m━━━━━━━━━━━━━━━━━━━━\u001b[0m\u001b[37m\u001b[0m \u001b[1m14s\u001b[0m 3ms/step - loss: 2.3590e-04 - val_loss: 0.0018\n",
      "Epoch 9/15\n",
      "\u001b[1m5344/5344\u001b[0m \u001b[32m━━━━━━━━━━━━━━━━━━━━\u001b[0m\u001b[37m\u001b[0m \u001b[1m14s\u001b[0m 3ms/step - loss: 2.3390e-04 - val_loss: 0.0016\n",
      "Epoch 10/15\n",
      "\u001b[1m5344/5344\u001b[0m \u001b[32m━━━━━━━━━━━━━━━━━━━━\u001b[0m\u001b[37m\u001b[0m \u001b[1m14s\u001b[0m 3ms/step - loss: 2.2354e-04 - val_loss: 0.0016\n",
      "Epoch 11/15\n",
      "\u001b[1m5344/5344\u001b[0m \u001b[32m━━━━━━━━━━━━━━━━━━━━\u001b[0m\u001b[37m\u001b[0m \u001b[1m14s\u001b[0m 3ms/step - loss: 2.1419e-04 - val_loss: 0.0018\n",
      "Epoch 12/15\n",
      "\u001b[1m5344/5344\u001b[0m \u001b[32m━━━━━━━━━━━━━━━━━━━━\u001b[0m\u001b[37m\u001b[0m \u001b[1m14s\u001b[0m 3ms/step - loss: 2.0732e-04 - val_loss: 0.0015\n",
      "Epoch 13/15\n",
      "\u001b[1m5344/5344\u001b[0m \u001b[32m━━━━━━━━━━━━━━━━━━━━\u001b[0m\u001b[37m\u001b[0m \u001b[1m14s\u001b[0m 3ms/step - loss: 2.0059e-04 - val_loss: 0.0016\n",
      "Epoch 14/15\n",
      "\u001b[1m5344/5344\u001b[0m \u001b[32m━━━━━━━━━━━━━━━━━━━━\u001b[0m\u001b[37m\u001b[0m \u001b[1m14s\u001b[0m 3ms/step - loss: 2.0334e-04 - val_loss: 0.0018\n",
      "Epoch 15/15\n",
      "\u001b[1m5344/5344\u001b[0m \u001b[32m━━━━━━━━━━━━━━━━━━━━\u001b[0m\u001b[37m\u001b[0m \u001b[1m14s\u001b[0m 3ms/step - loss: 1.9486e-04 - val_loss: 0.0017\n"
     ]
    }
   ],
   "source": [
    "history = model.fit(X_train, y_train, epochs=15, batch_size=32, validation_data=(X_eval, y_eval))"
   ]
  },
  {
   "cell_type": "code",
   "execution_count": 52,
   "id": "78a23731-8cb5-4320-ab85-210d09b0f791",
   "metadata": {},
   "outputs": [],
   "source": [
    "loss = history.history['loss']\n",
    "val_loss = history.history['val_loss']\n",
    "epochs_range = range(15)"
   ]
  },
  {
   "cell_type": "code",
   "execution_count": 40,
   "id": "4ca2e697-2b1a-444c-9855-8450171b6447",
   "metadata": {},
   "outputs": [
    {
     "data": {
      "image/png": "[encoded data removed]",
      "text/plain": [
       "<Figure size 640x480 with 1 Axes>"
      ]
     },
     "metadata": {},
     "output_type": "display_data"
    }
   ],
   "source": [
    "# visualise training loss/validation loss vs. epochs \n",
    "plt.subplot(1, 2, 2)\n",
    "plt.plot(epochs_range, loss, label='Training Loss')\n",
    "plt.plot(epochs_range, val_loss, label='Validation Loss')\n",
    "plt.legend(loc='upper right')\n",
    "plt.title('Training and Validation Loss')\n",
    "plt.show()"
   ]
  },
  {
   "cell_type": "code",
   "execution_count": 41,
   "id": "972b9c13-c239-404b-8b0d-f10f3066028f",
   "metadata": {},
   "outputs": [],
   "source": [
    "# save the model\n",
    "model.save(\"../models/single_variable_L2D2De2.keras\")"
   ]
  },
  {
   "cell_type": "code",
   "execution_count": 53,
   "id": "6937f7bb-fbd0-47d0-9bd7-65e71d5e00f0",
   "metadata": {},
   "outputs": [
    {
     "name": "stdout",
     "output_type": "stream",
     "text": [
      "\u001b[1m1336/1336\u001b[0m \u001b[32m━━━━━━━━━━━━━━━━━━━━\u001b[0m\u001b[37m\u001b[0m \u001b[1m1s\u001b[0m 665us/step - loss: 0.0017\n",
      "Evaluation Loss: 0.001728945760987699\n"
     ]
    }
   ],
   "source": [
    "# evaluate against evaluation data\n",
    "eval_loss = model.evaluate(X_eval, y_eval)\n",
    "print(f\"Evaluation Loss: {eval_loss}\")"
   ]
  },
  {
   "cell_type": "markdown",
   "id": "e732cc39-8cf0-4979-a019-86f7a112cd40",
   "metadata": {},
   "source": [
    "## Test Model Against a Real Hurricane"
   ]
  },
  {
   "cell_type": "code",
   "execution_count": 54,
   "id": "577bf8d6-e6ee-4135-9fa8-5d47031d14f9",
   "metadata": {},
   "outputs": [],
   "source": [
    "def get_points_for_sid(df, sid):\n",
    "    # Filter the DataFrame for the given SID\n",
    "    filtered_df = df[df['SID'] == sid]\n",
    "    # Extract the x, y, and z columns and convert them to a 2D NumPy array\n",
    "    points_array = filtered_df[['x', 'y', 'z']].to_numpy()\n",
    "    return points_array"
   ]
  },
  {
   "cell_type": "code",
   "execution_count": 55,
   "id": "f13f35b1-3a42-4d0e-88d4-0de8d6e5e5c2",
   "metadata": {},
   "outputs": [],
   "source": [
    "sid = \"1945271N06160\""
   ]
  },
  {
   "cell_type": "code",
   "execution_count": 56,
   "id": "c7593a22-fabc-40dd-9e0d-5f9f3669e00d",
   "metadata": {},
   "outputs": [],
   "source": [
    "test_hurricane = get_points_for_sid(simple_df,sid)"
   ]
  },
  {
   "cell_type": "code",
   "execution_count": 59,
   "id": "219aed5a-1f61-48c3-ab87-b24cbff3795f",
   "metadata": {},
   "outputs": [
    {
     "data": {
      "text/plain": [
       "array([[-0.93454489,  0.34014652,  0.10452846],\n",
       "       [-0.93101558,  0.34809246,  0.10973431],\n",
       "       [-0.92757924,  0.35606431,  0.11320321],\n",
       "       [-0.92387255,  0.36392308,  0.11840397],\n",
       "       [-0.92027277,  0.37181433,  0.12186934],\n",
       "       [-0.91659447,  0.37966586,  0.12533323],\n",
       "       [-0.91283812,  0.38747679,  0.1287956 ],\n",
       "       [-0.90879113,  0.39515363,  0.13398619],\n",
       "       [-0.9046549 ,  0.40277831,  0.1391731 ],\n",
       "       [-0.898762  ,  0.41338433,  0.14608303],\n",
       "       [-0.89196039,  0.42544328,  0.15298584],\n",
       "       [-0.8859653 ,  0.43594897,  0.15815807],\n",
       "       [-0.87878691,  0.44776429,  0.16504761],\n",
       "       [-0.8711422 ,  0.45930118,  0.17364818],\n",
       "       [-0.86328107,  0.47067612,  0.18223553],\n",
       "       [-0.85520716,  0.48188447,  0.190809  ],\n",
       "       [-0.84863969,  0.48996235,  0.19936793],\n",
       "       [-0.84342069,  0.49681275,  0.20449605],\n",
       "       [-0.83931413,  0.50231914,  0.20791169],\n",
       "       [-0.83572986,  0.506136  ,  0.21303039],\n",
       "       [-0.83242919,  0.51011326,  0.21643961],\n",
       "       [-0.82820121,  0.51550985,  0.2198462 ],\n",
       "       [-0.82392843,  0.52086593,  0.22325012],\n",
       "       [-0.82019388,  0.52453587,  0.22835087],\n",
       "       [-0.81549803,  0.52959062,  0.23344536],\n",
       "       [-0.80981511,  0.53600493,  0.23853346],\n",
       "       [-0.80406034,  0.54234555,  0.24361501],\n",
       "       [-0.79823475,  0.54861154,  0.24868989],\n",
       "       [-0.79233936,  0.55480199,  0.25375794],\n",
       "       [-0.7863752 ,  0.56091598,  0.25881905],\n",
       "       [-0.77996957,  0.56668106,  0.26555612],\n",
       "       [-0.77386637,  0.57263099,  0.27060045],\n",
       "       [-0.76769772,  0.57850173,  0.27563736],\n",
       "       [-0.76044379,  0.58562056,  0.28066671],\n",
       "       [-0.75271141,  0.59232547,  0.28736052],\n",
       "       [-0.74592993,  0.59760256,  0.29404033],\n",
       "       [-0.73761727,  0.60373274,  0.30236989],\n",
       "       [-0.72961742,  0.61005485,  0.30901699],\n",
       "       [-0.72003494,  0.61714458,  0.31730466],\n",
       "       [-0.71359193,  0.620316  ,  0.32556815],\n",
       "       [-0.70599674,  0.62461315,  0.33380686],\n",
       "       [-0.69678525,  0.62959378,  0.34365969],\n",
       "       [-0.68701703,  0.63396107,  0.35510696],\n",
       "       [-0.67935581,  0.63572992,  0.36650123],\n",
       "       [-0.67160279,  0.63732725,  0.37784079],\n",
       "       [-0.6627784 ,  0.63780591,  0.39233712],\n",
       "       [-0.65381785,  0.63803411,  0.40673664],\n",
       "       [-0.64753215,  0.63411033,  0.42261826],\n",
       "       [-0.64106526,  0.62997307,  0.43837115],\n",
       "       [-0.63441985,  0.62562295,  0.4539905 ],\n",
       "       [-0.62868168,  0.61996435,  0.46947156],\n",
       "       [-0.62489189,  0.61193935,  0.48480962],\n",
       "       [-0.6208628 ,  0.60376269,  0.5       ],\n",
       "       [-0.61659455,  0.59543844,  0.51503807],\n",
       "       [-0.61208739,  0.5869707 ,  0.52991926],\n",
       "       [-0.60935679,  0.57624007,  0.54463904],\n",
       "       [-0.6063197 ,  0.56540226,  0.5591929 ],\n",
       "       [-0.60223762,  0.55378588,  0.57500525],\n",
       "       [-0.60462861,  0.54060037,  0.58495767],\n",
       "       [-0.62750687,  0.52654078,  0.57357644],\n",
       "       [-0.65329052,  0.5104065 ,  0.5591929 ],\n",
       "       [-0.66656763,  0.4896426 ,  0.56208338],\n",
       "       [-0.67508465,  0.46397283,  0.57357644],\n",
       "       [-0.68480383,  0.43458973,  0.58495767],\n",
       "       [-0.69475323,  0.40435604,  0.59482279]])"
      ]
     },
     "execution_count": 59,
     "metadata": {},
     "output_type": "execute_result"
    }
   ],
   "source": [
    "test_hurricane"
   ]
  },
  {
   "cell_type": "code",
   "execution_count": 76,
   "id": "136e7f0f-ec9c-451e-b428-6c01b679c927",
   "metadata": {},
   "outputs": [
    {
     "name": "stdout",
     "output_type": "stream",
     "text": [
      "\u001b[1m1/1\u001b[0m \u001b[32m━━━━━━━━━━━━━━━━━━━━\u001b[0m\u001b[37m\u001b[0m \u001b[1m0s\u001b[0m 14ms/step\n",
      "\u001b[1m1/1\u001b[0m \u001b[32m━━━━━━━━━━━━━━━━━━━━\u001b[0m\u001b[37m\u001b[0m \u001b[1m0s\u001b[0m 14ms/step\n",
      "\u001b[1m1/1\u001b[0m \u001b[32m━━━━━━━━━━━━━━━━━━━━\u001b[0m\u001b[37m\u001b[0m \u001b[1m0s\u001b[0m 12ms/step\n",
      "\u001b[1m1/1\u001b[0m \u001b[32m━━━━━━━━━━━━━━━━━━━━\u001b[0m\u001b[37m\u001b[0m \u001b[1m0s\u001b[0m 12ms/step\n",
      "\u001b[1m1/1\u001b[0m \u001b[32m━━━━━━━━━━━━━━━━━━━━\u001b[0m\u001b[37m\u001b[0m \u001b[1m0s\u001b[0m 13ms/step\n",
      "\u001b[1m1/1\u001b[0m \u001b[32m━━━━━━━━━━━━━━━━━━━━\u001b[0m\u001b[37m\u001b[0m \u001b[1m0s\u001b[0m 13ms/step\n",
      "\u001b[1m1/1\u001b[0m \u001b[32m━━━━━━━━━━━━━━━━━━━━\u001b[0m\u001b[37m\u001b[0m \u001b[1m0s\u001b[0m 13ms/step\n",
      "\u001b[1m1/1\u001b[0m \u001b[32m━━━━━━━━━━━━━━━━━━━━\u001b[0m\u001b[37m\u001b[0m \u001b[1m0s\u001b[0m 12ms/step\n",
      "\u001b[1m1/1\u001b[0m \u001b[32m━━━━━━━━━━━━━━━━━━━━\u001b[0m\u001b[37m\u001b[0m \u001b[1m0s\u001b[0m 12ms/step\n",
      "\u001b[1m1/1\u001b[0m \u001b[32m━━━━━━━━━━━━━━━━━━━━\u001b[0m\u001b[37m\u001b[0m \u001b[1m0s\u001b[0m 12ms/step\n",
      "\u001b[1m1/1\u001b[0m \u001b[32m━━━━━━━━━━━━━━━━━━━━\u001b[0m\u001b[37m\u001b[0m \u001b[1m0s\u001b[0m 12ms/step\n",
      "\u001b[1m1/1\u001b[0m \u001b[32m━━━━━━━━━━━━━━━━━━━━\u001b[0m\u001b[37m\u001b[0m \u001b[1m0s\u001b[0m 12ms/step\n",
      "\u001b[1m1/1\u001b[0m \u001b[32m━━━━━━━━━━━━━━━━━━━━\u001b[0m\u001b[37m\u001b[0m \u001b[1m0s\u001b[0m 12ms/step\n",
      "\u001b[1m1/1\u001b[0m \u001b[32m━━━━━━━━━━━━━━━━━━━━\u001b[0m\u001b[37m\u001b[0m \u001b[1m0s\u001b[0m 12ms/step\n",
      "\u001b[1m1/1\u001b[0m \u001b[32m━━━━━━━━━━━━━━━━━━━━\u001b[0m\u001b[37m\u001b[0m \u001b[1m0s\u001b[0m 12ms/step\n",
      "\u001b[1m1/1\u001b[0m \u001b[32m━━━━━━━━━━━━━━━━━━━━\u001b[0m\u001b[37m\u001b[0m \u001b[1m0s\u001b[0m 12ms/step\n",
      "\u001b[1m1/1\u001b[0m \u001b[32m━━━━━━━━━━━━━━━━━━━━\u001b[0m\u001b[37m\u001b[0m \u001b[1m0s\u001b[0m 12ms/step\n",
      "\u001b[1m1/1\u001b[0m \u001b[32m━━━━━━━━━━━━━━━━━━━━\u001b[0m\u001b[37m\u001b[0m \u001b[1m0s\u001b[0m 12ms/step\n",
      "\u001b[1m1/1\u001b[0m \u001b[32m━━━━━━━━━━━━━━━━━━━━\u001b[0m\u001b[37m\u001b[0m \u001b[1m0s\u001b[0m 12ms/step\n",
      "\u001b[1m1/1\u001b[0m \u001b[32m━━━━━━━━━━━━━━━━━━━━\u001b[0m\u001b[37m\u001b[0m \u001b[1m0s\u001b[0m 12ms/step\n",
      "\u001b[1m1/1\u001b[0m \u001b[32m━━━━━━━━━━━━━━━━━━━━\u001b[0m\u001b[37m\u001b[0m \u001b[1m0s\u001b[0m 13ms/step\n",
      "\u001b[1m1/1\u001b[0m \u001b[32m━━━━━━━━━━━━━━━━━━━━\u001b[0m\u001b[37m\u001b[0m \u001b[1m0s\u001b[0m 12ms/step\n",
      "\u001b[1m1/1\u001b[0m \u001b[32m━━━━━━━━━━━━━━━━━━━━\u001b[0m\u001b[37m\u001b[0m \u001b[1m0s\u001b[0m 12ms/step\n",
      "\u001b[1m1/1\u001b[0m \u001b[32m━━━━━━━━━━━━━━━━━━━━\u001b[0m\u001b[37m\u001b[0m \u001b[1m0s\u001b[0m 12ms/step\n",
      "\u001b[1m1/1\u001b[0m \u001b[32m━━━━━━━━━━━━━━━━━━━━\u001b[0m\u001b[37m\u001b[0m \u001b[1m0s\u001b[0m 12ms/step\n",
      "\u001b[1m1/1\u001b[0m \u001b[32m━━━━━━━━━━━━━━━━━━━━\u001b[0m\u001b[37m\u001b[0m \u001b[1m0s\u001b[0m 12ms/step\n",
      "\u001b[1m1/1\u001b[0m \u001b[32m━━━━━━━━━━━━━━━━━━━━\u001b[0m\u001b[37m\u001b[0m \u001b[1m0s\u001b[0m 12ms/step\n",
      "\u001b[1m1/1\u001b[0m \u001b[32m━━━━━━━━━━━━━━━━━━━━\u001b[0m\u001b[37m\u001b[0m \u001b[1m0s\u001b[0m 12ms/step\n",
      "\u001b[1m1/1\u001b[0m \u001b[32m━━━━━━━━━━━━━━━━━━━━\u001b[0m\u001b[37m\u001b[0m \u001b[1m0s\u001b[0m 13ms/step\n",
      "\u001b[1m1/1\u001b[0m \u001b[32m━━━━━━━━━━━━━━━━━━━━\u001b[0m\u001b[37m\u001b[0m \u001b[1m0s\u001b[0m 12ms/step\n",
      "\u001b[1m1/1\u001b[0m \u001b[32m━━━━━━━━━━━━━━━━━━━━\u001b[0m\u001b[37m\u001b[0m \u001b[1m0s\u001b[0m 11ms/step\n",
      "\u001b[1m1/1\u001b[0m \u001b[32m━━━━━━━━━━━━━━━━━━━━\u001b[0m\u001b[37m\u001b[0m \u001b[1m0s\u001b[0m 12ms/step\n",
      "\u001b[1m1/1\u001b[0m \u001b[32m━━━━━━━━━━━━━━━━━━━━\u001b[0m\u001b[37m\u001b[0m \u001b[1m0s\u001b[0m 11ms/step\n",
      "\u001b[1m1/1\u001b[0m \u001b[32m━━━━━━━━━━━━━━━━━━━━\u001b[0m\u001b[37m\u001b[0m \u001b[1m0s\u001b[0m 18ms/step\n",
      "\u001b[1m1/1\u001b[0m \u001b[32m━━━━━━━━━━━━━━━━━━━━\u001b[0m\u001b[37m\u001b[0m \u001b[1m0s\u001b[0m 12ms/step\n"
     ]
    }
   ],
   "source": [
    "def predict_path(model, initial_sequence, steps):\n",
    "    path = []\n",
    "    current_sequence = initial_sequence\n",
    "    \n",
    "    for _ in range(steps):\n",
    "        # Predict the next point\n",
    "        next_point = model.predict(np.expand_dims(current_sequence, axis=0))\n",
    "        \n",
    "        # Append the prediction to the path\n",
    "        path.append(next_point[0])\n",
    "        \n",
    "        # Update the current sequence by appending the predicted point\n",
    "        current_sequence = np.append(current_sequence[1:], next_point, axis=0)\n",
    "    \n",
    "    return np.array(path)\n",
    "\n",
    "# Example: Predicting the next 35 steps from the first 5 sequence in the evaluation set\n",
    "predicted_path = predict_path(model, test_hurricane[0:5], steps=35)"
   ]
  },
  {
   "cell_type": "code",
   "execution_count": 58,
   "id": "4601ef71-f7c3-4130-940b-d8e52ce3fd67",
   "metadata": {},
   "outputs": [
    {
     "data": {
      "image/png": "[encoded data removed]",
      "text/plain": [
       "<Figure size 1400x600 with 3 Axes>"
      ]
     },
     "metadata": {},
     "output_type": "display_data"
    }
   ],
   "source": [
    "# visualise the performance of the model\n",
    "def plot_predicted_vs_actual(actual_path, predicted_path, start_index):\n",
    "    # Calculate the end index based on the start index and the length of the predicted path\n",
    "    end_index = start_index + len(predicted_path)\n",
    "    \n",
    "    # Ensure the predicted path fits within the bounds of the actual path\n",
    "    if end_index > len(actual_path):\n",
    "        raise ValueError(\"Predicted path exceeds bounds of actual path. Adjust the start_index or predicted_path length.\")\n",
    "    \n",
    "    plt.figure(figsize=(14, 6))\n",
    "\n",
    "    # Plotting x-coordinate over time\n",
    "    plt.subplot(1, 3, 1)\n",
    "    plt.plot(range(len(actual_path)), actual_path[:, 0], label='Actual x', color='blue', marker='o')\n",
    "    plt.plot(range(start_index, end_index), predicted_path[:, 0], label='Predicted x', color='red', linestyle='--', marker='x')\n",
    "    plt.xlabel('Time Step')\n",
    "    plt.ylabel('x Coordinate')\n",
    "    plt.title('Actual vs Predicted x')\n",
    "    plt.legend()\n",
    "\n",
    "    # Plotting y-coordinate over time\n",
    "    plt.subplot(1, 3, 2)\n",
    "    plt.plot(range(len(actual_path)), actual_path[:, 1], label='Actual y', color='blue', marker='o')\n",
    "    plt.plot(range(start_index, end_index), predicted_path[:, 1], label='Predicted y', color='red', linestyle='--', marker='x')\n",
    "    plt.xlabel('Time Step')\n",
    "    plt.ylabel('y Coordinate')\n",
    "    plt.title('Actual vs Predicted y')\n",
    "    plt.legend()\n",
    "\n",
    "    # Plotting z-coordinate over time\n",
    "    plt.subplot(1, 3, 3)\n",
    "    plt.plot(range(len(actual_path)), actual_path[:, 2], label='Actual z', color='blue', marker='o')\n",
    "    plt.plot(range(start_index, end_index), predicted_path[:, 2], label='Predicted z', color='red', linestyle='--', marker='x')\n",
    "    plt.xlabel('Time Step')\n",
    "    plt.ylabel('z Coordinate')\n",
    "    plt.title('Actual vs Predicted z')\n",
    "    plt.legend()\n",
    "\n",
    "    plt.tight_layout()\n",
    "    plt.show()\n",
    "\n",
    "plot_predicted_vs_actual(test_hurricane,predicted_path,5)"
   ]
  },
  {
   "cell_type": "code",
   "execution_count": 89,
   "id": "4c57224a-ebb8-4211-974b-887035db9d73",
   "metadata": {},
   "outputs": [],
   "source": [
    "list_hurricanes = []"
   ]
  },
  {
   "cell_type": "code",
   "execution_count": 90,
   "id": "f8aeaf52-1df1-43b8-8b4e-d0c40f33540c",
   "metadata": {},
   "outputs": [],
   "source": [
    "list_hurricanes.append(get_points_for_sid(simple_df,\"1945271N06160\"))"
   ]
  },
  {
   "cell_type": "code",
   "execution_count": 91,
   "id": "20643283-d422-4b91-9cbb-2c7ba5f13fd4",
   "metadata": {},
   "outputs": [],
   "source": [
    "list_hurricanes.append(get_points_for_sid(simple_df,\"1978252N17119\"))"
   ]
  },
  {
   "cell_type": "code",
   "execution_count": 92,
   "id": "894e80ba-8de9-4851-8d69-f5b3647a2c6e",
   "metadata": {},
   "outputs": [
    {
     "data": {
      "text/plain": [
       "[array([[-0.93454489,  0.34014652,  0.10452846],\n",
       "        [-0.93101558,  0.34809246,  0.10973431],\n",
       "        [-0.92757924,  0.35606431,  0.11320321],\n",
       "        [-0.92387255,  0.36392308,  0.11840397],\n",
       "        [-0.92027277,  0.37181433,  0.12186934],\n",
       "        [-0.91659447,  0.37966586,  0.12533323],\n",
       "        [-0.91283812,  0.38747679,  0.1287956 ],\n",
       "        [-0.90879113,  0.39515363,  0.13398619],\n",
       "        [-0.9046549 ,  0.40277831,  0.1391731 ],\n",
       "        [-0.898762  ,  0.41338433,  0.14608303],\n",
       "        [-0.89196039,  0.42544328,  0.15298584],\n",
       "        [-0.8859653 ,  0.43594897,  0.15815807],\n",
       "        [-0.87878691,  0.44776429,  0.16504761],\n",
       "        [-0.8711422 ,  0.45930118,  0.17364818],\n",
       "        [-0.86328107,  0.47067612,  0.18223553],\n",
       "        [-0.85520716,  0.48188447,  0.190809  ],\n",
       "        [-0.84863969,  0.48996235,  0.19936793],\n",
       "        [-0.84342069,  0.49681275,  0.20449605],\n",
       "        [-0.83931413,  0.50231914,  0.20791169],\n",
       "        [-0.83572986,  0.506136  ,  0.21303039],\n",
       "        [-0.83242919,  0.51011326,  0.21643961],\n",
       "        [-0.82820121,  0.51550985,  0.2198462 ],\n",
       "        [-0.82392843,  0.52086593,  0.22325012],\n",
       "        [-0.82019388,  0.52453587,  0.22835087],\n",
       "        [-0.81549803,  0.52959062,  0.23344536],\n",
       "        [-0.80981511,  0.53600493,  0.23853346],\n",
       "        [-0.80406034,  0.54234555,  0.24361501],\n",
       "        [-0.79823475,  0.54861154,  0.24868989],\n",
       "        [-0.79233936,  0.55480199,  0.25375794],\n",
       "        [-0.7863752 ,  0.56091598,  0.25881905],\n",
       "        [-0.77996957,  0.56668106,  0.26555612],\n",
       "        [-0.77386637,  0.57263099,  0.27060045],\n",
       "        [-0.76769772,  0.57850173,  0.27563736],\n",
       "        [-0.76044379,  0.58562056,  0.28066671],\n",
       "        [-0.75271141,  0.59232547,  0.28736052],\n",
       "        [-0.74592993,  0.59760256,  0.29404033],\n",
       "        [-0.73761727,  0.60373274,  0.30236989],\n",
       "        [-0.72961742,  0.61005485,  0.30901699],\n",
       "        [-0.72003494,  0.61714458,  0.31730466],\n",
       "        [-0.71359193,  0.620316  ,  0.32556815],\n",
       "        [-0.70599674,  0.62461315,  0.33380686],\n",
       "        [-0.69678525,  0.62959378,  0.34365969],\n",
       "        [-0.68701703,  0.63396107,  0.35510696],\n",
       "        [-0.67935581,  0.63572992,  0.36650123],\n",
       "        [-0.67160279,  0.63732725,  0.37784079],\n",
       "        [-0.6627784 ,  0.63780591,  0.39233712],\n",
       "        [-0.65381785,  0.63803411,  0.40673664],\n",
       "        [-0.64753215,  0.63411033,  0.42261826],\n",
       "        [-0.64106526,  0.62997307,  0.43837115],\n",
       "        [-0.63441985,  0.62562295,  0.4539905 ],\n",
       "        [-0.62868168,  0.61996435,  0.46947156],\n",
       "        [-0.62489189,  0.61193935,  0.48480962],\n",
       "        [-0.6208628 ,  0.60376269,  0.5       ],\n",
       "        [-0.61659455,  0.59543844,  0.51503807],\n",
       "        [-0.61208739,  0.5869707 ,  0.52991926],\n",
       "        [-0.60935679,  0.57624007,  0.54463904],\n",
       "        [-0.6063197 ,  0.56540226,  0.5591929 ],\n",
       "        [-0.60223762,  0.55378588,  0.57500525],\n",
       "        [-0.60462861,  0.54060037,  0.58495767],\n",
       "        [-0.62750687,  0.52654078,  0.57357644],\n",
       "        [-0.65329052,  0.5104065 ,  0.5591929 ],\n",
       "        [-0.66656763,  0.4896426 ,  0.56208338],\n",
       "        [-0.67508465,  0.46397283,  0.57357644],\n",
       "        [-0.68480383,  0.43458973,  0.58495767],\n",
       "        [-0.69475323,  0.40435604,  0.59482279]]),\n",
       " array([[-0.46484503,  0.83860264,  0.28401534],\n",
       "        [-0.46207969,  0.84400582,  0.27228025],\n",
       "        [-0.45958146,  0.84644375,  0.26891982],\n",
       "        [-0.45696983,  0.84514801,  0.27731465],\n",
       "        [-0.45261975,  0.84413227,  0.28736052],\n",
       "        [-0.44546863,  0.8484927 ,  0.28568837],\n",
       "        [-0.43678545,  0.85355361,  0.28401534],\n",
       "        [-0.42932025,  0.85733273,  0.28401534],\n",
       "        [-0.42182236,  0.86104656,  0.28401534],\n",
       "        [-0.41299531,  0.86586268,  0.28234146],\n",
       "        [-0.40563124,  0.86987901,  0.28066671],\n",
       "        [-0.39802477,  0.87338564,  0.28066671],\n",
       "        [-0.39211716,  0.8765889 ,  0.27899111],\n",
       "        [-0.38791264,  0.87951568,  0.27563736],\n",
       "        [-0.38330221,  0.88153472,  0.27563736],\n",
       "        [-0.37732681,  0.88463033,  0.27395922],\n",
       "        [-0.37268975,  0.88659387,  0.27395922],\n",
       "        [-0.36840618,  0.8894112 ,  0.27060045],\n",
       "        [-0.36374421,  0.89132797,  0.27060045],\n",
       "        [-0.35733681,  0.89340577,  0.27228025],\n",
       "        [-0.35386403,  0.89375852,  0.27563736],\n",
       "        [-0.34900421,  0.89514951,  0.27731465],\n",
       "        [-0.34570266,  0.89590939,  0.27899111],\n",
       "        [-0.34239902,  0.8966544 ,  0.28066671],\n",
       "        [-0.33891866,  0.8969222 ,  0.28401534],\n",
       "        [-0.33387015,  0.89774977,  0.28736052],\n",
       "        [-0.33038601,  0.89796287,  0.29070219],\n",
       "        [-0.32881826,  0.89853814,  0.29070219],\n",
       "        [-0.3286434 ,  0.8980603 ,  0.2923717 ],\n",
       "        [-0.32707549,  0.89863252,  0.2923717 ],\n",
       "        [-0.32829067,  0.89709642,  0.29570805],\n",
       "        [-0.32829067,  0.89709642,  0.29570805],\n",
       "        [-0.33124056,  0.89545959,  0.29737487],\n",
       "        [-0.33124056,  0.89545959,  0.29737487],\n",
       "        [-0.33418201,  0.89381038,  0.29904079],\n",
       "        [-0.33592461,  0.89371295,  0.29737487],\n",
       "        [-0.33748392,  0.89312529,  0.29737487],\n",
       "        [-0.339226  ,  0.89301874,  0.29570805],\n",
       "        [-0.339226  ,  0.89301874,  0.29570805],\n",
       "        [-0.34078409,  0.89242532,  0.29570805],\n",
       "        [-0.34234115,  0.89182918,  0.29570805],\n",
       "        [-0.34234115,  0.89182918,  0.29570805],\n",
       "        [-0.34078409,  0.89242532,  0.29570805],\n",
       "        [-0.339226  ,  0.89301874,  0.29570805],\n",
       "        [-0.33784879,  0.89409087,  0.29404033],\n",
       "        [-0.33159867,  0.89642769,  0.29404033],\n",
       "        [-0.32550658,  0.89920201,  0.2923717 ],\n",
       "        [-0.32428042,  0.9007235 ,  0.2890318 ],\n",
       "        [-0.3246202 ,  0.90166728,  0.28568837],\n",
       "        [-0.3247886 ,  0.90213505,  0.28401534],\n",
       "        [-0.323046  ,  0.90223248,  0.28568837],\n",
       "        [-0.31640787,  0.90351905,  0.2890318 ],\n",
       "        [-0.30959801,  0.90426178,  0.29404033],\n",
       "        [-0.30485908,  0.90587043,  0.29404033],\n",
       "        [-0.29820514,  0.90699608,  0.29737487]])]"
      ]
     },
     "execution_count": 92,
     "metadata": {},
     "output_type": "execute_result"
    }
   ],
   "source": [
    "list_hurricanes"
   ]
  },
  {
   "cell_type": "code",
   "execution_count": 93,
   "id": "db9cb609-a20b-454e-965d-d76bba945b61",
   "metadata": {},
   "outputs": [],
   "source": [
    "def evaluateModel(actual_hurricanes, window_size):\n",
    "    predicted_paths = []\n",
    "    for hurricane in actual_hurricanes:\n",
    "        predicted_paths.append(predict_path(model, hurricane[0:window_size], steps=len(hurricane)-window_size))\n",
    "    return predicted_paths"
   ]
  },
  {
   "cell_type": "code",
   "execution_count": 94,
   "id": "3c91ce09-34d4-456f-a3d0-c83c5273fe14",
   "metadata": {},
   "outputs": [
    {
     "name": "stdout",
     "output_type": "stream",
     "text": [
      "\u001b[1m1/1\u001b[0m \u001b[32m━━━━━━━━━━━━━━━━━━━━\u001b[0m\u001b[37m\u001b[0m \u001b[1m0s\u001b[0m 15ms/step\n",
      "\u001b[1m1/1\u001b[0m \u001b[32m━━━━━━━━━━━━━━━━━━━━\u001b[0m\u001b[37m\u001b[0m \u001b[1m0s\u001b[0m 12ms/step\n",
      "\u001b[1m1/1\u001b[0m \u001b[32m━━━━━━━━━━━━━━━━━━━━\u001b[0m\u001b[37m\u001b[0m \u001b[1m0s\u001b[0m 11ms/step\n",
      "\u001b[1m1/1\u001b[0m \u001b[32m━━━━━━━━━━━━━━━━━━━━\u001b[0m\u001b[37m\u001b[0m \u001b[1m0s\u001b[0m 12ms/step\n",
      "\u001b[1m1/1\u001b[0m \u001b[32m━━━━━━━━━━━━━━━━━━━━\u001b[0m\u001b[37m\u001b[0m \u001b[1m0s\u001b[0m 12ms/step\n",
      "\u001b[1m1/1\u001b[0m \u001b[32m━━━━━━━━━━━━━━━━━━━━\u001b[0m\u001b[37m\u001b[0m \u001b[1m0s\u001b[0m 12ms/step\n",
      "\u001b[1m1/1\u001b[0m \u001b[32m━━━━━━━━━━━━━━━━━━━━\u001b[0m\u001b[37m\u001b[0m \u001b[1m0s\u001b[0m 12ms/step\n",
      "\u001b[1m1/1\u001b[0m \u001b[32m━━━━━━━━━━━━━━━━━━━━\u001b[0m\u001b[37m\u001b[0m \u001b[1m0s\u001b[0m 12ms/step\n",
      "\u001b[1m1/1\u001b[0m \u001b[32m━━━━━━━━━━━━━━━━━━━━\u001b[0m\u001b[37m\u001b[0m \u001b[1m0s\u001b[0m 11ms/step\n",
      "\u001b[1m1/1\u001b[0m \u001b[32m━━━━━━━━━━━━━━━━━━━━\u001b[0m\u001b[37m\u001b[0m \u001b[1m0s\u001b[0m 12ms/step\n",
      "\u001b[1m1/1\u001b[0m \u001b[32m━━━━━━━━━━━━━━━━━━━━\u001b[0m\u001b[37m\u001b[0m \u001b[1m0s\u001b[0m 11ms/step\n",
      "\u001b[1m1/1\u001b[0m \u001b[32m━━━━━━━━━━━━━━━━━━━━\u001b[0m\u001b[37m\u001b[0m \u001b[1m0s\u001b[0m 12ms/step\n",
      "\u001b[1m1/1\u001b[0m \u001b[32m━━━━━━━━━━━━━━━━━━━━\u001b[0m\u001b[37m\u001b[0m \u001b[1m0s\u001b[0m 11ms/step\n",
      "\u001b[1m1/1\u001b[0m \u001b[32m━━━━━━━━━━━━━━━━━━━━\u001b[0m\u001b[37m\u001b[0m \u001b[1m0s\u001b[0m 12ms/step\n",
      "\u001b[1m1/1\u001b[0m \u001b[32m━━━━━━━━━━━━━━━━━━━━\u001b[0m\u001b[37m\u001b[0m \u001b[1m0s\u001b[0m 12ms/step\n",
      "\u001b[1m1/1\u001b[0m \u001b[32m━━━━━━━━━━━━━━━━━━━━\u001b[0m\u001b[37m\u001b[0m \u001b[1m0s\u001b[0m 11ms/step\n",
      "\u001b[1m1/1\u001b[0m \u001b[32m━━━━━━━━━━━━━━━━━━━━\u001b[0m\u001b[37m\u001b[0m \u001b[1m0s\u001b[0m 11ms/step\n",
      "\u001b[1m1/1\u001b[0m \u001b[32m━━━━━━━━━━━━━━━━━━━━\u001b[0m\u001b[37m\u001b[0m \u001b[1m0s\u001b[0m 11ms/step\n",
      "\u001b[1m1/1\u001b[0m \u001b[32m━━━━━━━━━━━━━━━━━━━━\u001b[0m\u001b[37m\u001b[0m \u001b[1m0s\u001b[0m 11ms/step\n",
      "\u001b[1m1/1\u001b[0m \u001b[32m━━━━━━━━━━━━━━━━━━━━\u001b[0m\u001b[37m\u001b[0m \u001b[1m0s\u001b[0m 11ms/step\n",
      "\u001b[1m1/1\u001b[0m \u001b[32m━━━━━━━━━━━━━━━━━━━━\u001b[0m\u001b[37m\u001b[0m \u001b[1m0s\u001b[0m 11ms/step\n",
      "\u001b[1m1/1\u001b[0m \u001b[32m━━━━━━━━━━━━━━━━━━━━\u001b[0m\u001b[37m\u001b[0m \u001b[1m0s\u001b[0m 11ms/step\n",
      "\u001b[1m1/1\u001b[0m \u001b[32m━━━━━━━━━━━━━━━━━━━━\u001b[0m\u001b[37m\u001b[0m \u001b[1m0s\u001b[0m 13ms/step\n",
      "\u001b[1m1/1\u001b[0m \u001b[32m━━━━━━━━━━━━━━━━━━━━\u001b[0m\u001b[37m\u001b[0m \u001b[1m0s\u001b[0m 11ms/step\n",
      "\u001b[1m1/1\u001b[0m \u001b[32m━━━━━━━━━━━━━━━━━━━━\u001b[0m\u001b[37m\u001b[0m \u001b[1m0s\u001b[0m 12ms/step\n",
      "\u001b[1m1/1\u001b[0m \u001b[32m━━━━━━━━━━━━━━━━━━━━\u001b[0m\u001b[37m\u001b[0m \u001b[1m0s\u001b[0m 12ms/step\n",
      "\u001b[1m1/1\u001b[0m \u001b[32m━━━━━━━━━━━━━━━━━━━━\u001b[0m\u001b[37m\u001b[0m \u001b[1m0s\u001b[0m 12ms/step\n",
      "\u001b[1m1/1\u001b[0m \u001b[32m━━━━━━━━━━━━━━━━━━━━\u001b[0m\u001b[37m\u001b[0m \u001b[1m0s\u001b[0m 12ms/step\n",
      "\u001b[1m1/1\u001b[0m \u001b[32m━━━━━━━━━━━━━━━━━━━━\u001b[0m\u001b[37m\u001b[0m \u001b[1m0s\u001b[0m 12ms/step\n",
      "\u001b[1m1/1\u001b[0m \u001b[32m━━━━━━━━━━━━━━━━━━━━\u001b[0m\u001b[37m\u001b[0m \u001b[1m0s\u001b[0m 14ms/step\n",
      "\u001b[1m1/1\u001b[0m \u001b[32m━━━━━━━━━━━━━━━━━━━━\u001b[0m\u001b[37m\u001b[0m \u001b[1m0s\u001b[0m 11ms/step\n",
      "\u001b[1m1/1\u001b[0m \u001b[32m━━━━━━━━━━━━━━━━━━━━\u001b[0m\u001b[37m\u001b[0m \u001b[1m0s\u001b[0m 12ms/step\n",
      "\u001b[1m1/1\u001b[0m \u001b[32m━━━━━━━━━━━━━━━━━━━━\u001b[0m\u001b[37m\u001b[0m \u001b[1m0s\u001b[0m 12ms/step\n",
      "\u001b[1m1/1\u001b[0m \u001b[32m━━━━━━━━━━━━━━━━━━━━\u001b[0m\u001b[37m\u001b[0m \u001b[1m0s\u001b[0m 12ms/step\n",
      "\u001b[1m1/1\u001b[0m \u001b[32m━━━━━━━━━━━━━━━━━━━━\u001b[0m\u001b[37m\u001b[0m \u001b[1m0s\u001b[0m 12ms/step\n",
      "\u001b[1m1/1\u001b[0m \u001b[32m━━━━━━━━━━━━━━━━━━━━\u001b[0m\u001b[37m\u001b[0m \u001b[1m0s\u001b[0m 12ms/step\n",
      "\u001b[1m1/1\u001b[0m \u001b[32m━━━━━━━━━━━━━━━━━━━━\u001b[0m\u001b[37m\u001b[0m \u001b[1m0s\u001b[0m 12ms/step\n",
      "\u001b[1m1/1\u001b[0m \u001b[32m━━━━━━━━━━━━━━━━━━━━\u001b[0m\u001b[37m\u001b[0m \u001b[1m0s\u001b[0m 12ms/step\n",
      "\u001b[1m1/1\u001b[0m \u001b[32m━━━━━━━━━━━━━━━━━━━━\u001b[0m\u001b[37m\u001b[0m \u001b[1m0s\u001b[0m 11ms/step\n",
      "\u001b[1m1/1\u001b[0m \u001b[32m━━━━━━━━━━━━━━━━━━━━\u001b[0m\u001b[37m\u001b[0m \u001b[1m0s\u001b[0m 11ms/step\n",
      "\u001b[1m1/1\u001b[0m \u001b[32m━━━━━━━━━━━━━━━━━━━━\u001b[0m\u001b[37m\u001b[0m \u001b[1m0s\u001b[0m 11ms/step\n",
      "\u001b[1m1/1\u001b[0m \u001b[32m━━━━━━━━━━━━━━━━━━━━\u001b[0m\u001b[37m\u001b[0m \u001b[1m0s\u001b[0m 11ms/step\n",
      "\u001b[1m1/1\u001b[0m \u001b[32m━━━━━━━━━━━━━━━━━━━━\u001b[0m\u001b[37m\u001b[0m \u001b[1m0s\u001b[0m 11ms/step\n",
      "\u001b[1m1/1\u001b[0m \u001b[32m━━━━━━━━━━━━━━━━━━━━\u001b[0m\u001b[37m\u001b[0m \u001b[1m0s\u001b[0m 11ms/step\n",
      "\u001b[1m1/1\u001b[0m \u001b[32m━━━━━━━━━━━━━━━━━━━━\u001b[0m\u001b[37m\u001b[0m \u001b[1m0s\u001b[0m 11ms/step\n",
      "\u001b[1m1/1\u001b[0m \u001b[32m━━━━━━━━━━━━━━━━━━━━\u001b[0m\u001b[37m\u001b[0m \u001b[1m0s\u001b[0m 12ms/step\n",
      "\u001b[1m1/1\u001b[0m \u001b[32m━━━━━━━━━━━━━━━━━━━━\u001b[0m\u001b[37m\u001b[0m \u001b[1m0s\u001b[0m 11ms/step\n",
      "\u001b[1m1/1\u001b[0m \u001b[32m━━━━━━━━━━━━━━━━━━━━\u001b[0m\u001b[37m\u001b[0m \u001b[1m0s\u001b[0m 14ms/step\n",
      "\u001b[1m1/1\u001b[0m \u001b[32m━━━━━━━━━━━━━━━━━━━━\u001b[0m\u001b[37m\u001b[0m \u001b[1m0s\u001b[0m 12ms/step\n",
      "\u001b[1m1/1\u001b[0m \u001b[32m━━━━━━━━━━━━━━━━━━━━\u001b[0m\u001b[37m\u001b[0m \u001b[1m0s\u001b[0m 11ms/step\n",
      "\u001b[1m1/1\u001b[0m \u001b[32m━━━━━━━━━━━━━━━━━━━━\u001b[0m\u001b[37m\u001b[0m \u001b[1m0s\u001b[0m 12ms/step\n",
      "\u001b[1m1/1\u001b[0m \u001b[32m━━━━━━━━━━━━━━━━━━━━\u001b[0m\u001b[37m\u001b[0m \u001b[1m0s\u001b[0m 12ms/step\n",
      "\u001b[1m1/1\u001b[0m \u001b[32m━━━━━━━━━━━━━━━━━━━━\u001b[0m\u001b[37m\u001b[0m \u001b[1m0s\u001b[0m 12ms/step\n",
      "\u001b[1m1/1\u001b[0m \u001b[32m━━━━━━━━━━━━━━━━━━━━\u001b[0m\u001b[37m\u001b[0m \u001b[1m0s\u001b[0m 11ms/step\n",
      "\u001b[1m1/1\u001b[0m \u001b[32m━━━━━━━━━━━━━━━━━━━━\u001b[0m\u001b[37m\u001b[0m \u001b[1m0s\u001b[0m 11ms/step\n",
      "\u001b[1m1/1\u001b[0m \u001b[32m━━━━━━━━━━━━━━━━━━━━\u001b[0m\u001b[37m\u001b[0m \u001b[1m0s\u001b[0m 11ms/step\n",
      "\u001b[1m1/1\u001b[0m \u001b[32m━━━━━━━━━━━━━━━━━━━━\u001b[0m\u001b[37m\u001b[0m \u001b[1m0s\u001b[0m 12ms/step\n",
      "\u001b[1m1/1\u001b[0m \u001b[32m━━━━━━━━━━━━━━━━━━━━\u001b[0m\u001b[37m\u001b[0m \u001b[1m0s\u001b[0m 12ms/step\n",
      "\u001b[1m1/1\u001b[0m \u001b[32m━━━━━━━━━━━━━━━━━━━━\u001b[0m\u001b[37m\u001b[0m \u001b[1m0s\u001b[0m 12ms/step\n",
      "\u001b[1m1/1\u001b[0m \u001b[32m━━━━━━━━━━━━━━━━━━━━\u001b[0m\u001b[37m\u001b[0m \u001b[1m0s\u001b[0m 11ms/step\n",
      "\u001b[1m1/1\u001b[0m \u001b[32m━━━━━━━━━━━━━━━━━━━━\u001b[0m\u001b[37m\u001b[0m \u001b[1m0s\u001b[0m 12ms/step\n",
      "\u001b[1m1/1\u001b[0m \u001b[32m━━━━━━━━━━━━━━━━━━━━\u001b[0m\u001b[37m\u001b[0m \u001b[1m0s\u001b[0m 12ms/step\n",
      "\u001b[1m1/1\u001b[0m \u001b[32m━━━━━━━━━━━━━━━━━━━━\u001b[0m\u001b[37m\u001b[0m \u001b[1m0s\u001b[0m 12ms/step\n",
      "\u001b[1m1/1\u001b[0m \u001b[32m━━━━━━━━━━━━━━━━━━━━\u001b[0m\u001b[37m\u001b[0m \u001b[1m0s\u001b[0m 12ms/step\n",
      "\u001b[1m1/1\u001b[0m \u001b[32m━━━━━━━━━━━━━━━━━━━━\u001b[0m\u001b[37m\u001b[0m \u001b[1m0s\u001b[0m 12ms/step\n",
      "\u001b[1m1/1\u001b[0m \u001b[32m━━━━━━━━━━━━━━━━━━━━\u001b[0m\u001b[37m\u001b[0m \u001b[1m0s\u001b[0m 12ms/step\n",
      "\u001b[1m1/1\u001b[0m \u001b[32m━━━━━━━━━━━━━━━━━━━━\u001b[0m\u001b[37m\u001b[0m \u001b[1m0s\u001b[0m 12ms/step\n",
      "\u001b[1m1/1\u001b[0m \u001b[32m━━━━━━━━━━━━━━━━━━━━\u001b[0m\u001b[37m\u001b[0m \u001b[1m0s\u001b[0m 12ms/step\n",
      "\u001b[1m1/1\u001b[0m \u001b[32m━━━━━━━━━━━━━━━━━━━━\u001b[0m\u001b[37m\u001b[0m \u001b[1m0s\u001b[0m 11ms/step\n",
      "\u001b[1m1/1\u001b[0m \u001b[32m━━━━━━━━━━━━━━━━━━━━\u001b[0m\u001b[37m\u001b[0m \u001b[1m0s\u001b[0m 11ms/step\n",
      "\u001b[1m1/1\u001b[0m \u001b[32m━━━━━━━━━━━━━━━━━━━━\u001b[0m\u001b[37m\u001b[0m \u001b[1m0s\u001b[0m 13ms/step\n",
      "\u001b[1m1/1\u001b[0m \u001b[32m━━━━━━━━━━━━━━━━━━━━\u001b[0m\u001b[37m\u001b[0m \u001b[1m0s\u001b[0m 11ms/step\n",
      "\u001b[1m1/1\u001b[0m \u001b[32m━━━━━━━━━━━━━━━━━━━━\u001b[0m\u001b[37m\u001b[0m \u001b[1m0s\u001b[0m 11ms/step\n",
      "\u001b[1m1/1\u001b[0m \u001b[32m━━━━━━━━━━━━━━━━━━━━\u001b[0m\u001b[37m\u001b[0m \u001b[1m0s\u001b[0m 11ms/step\n",
      "\u001b[1m1/1\u001b[0m \u001b[32m━━━━━━━━━━━━━━━━━━━━\u001b[0m\u001b[37m\u001b[0m \u001b[1m0s\u001b[0m 11ms/step\n",
      "\u001b[1m1/1\u001b[0m \u001b[32m━━━━━━━━━━━━━━━━━━━━\u001b[0m\u001b[37m\u001b[0m \u001b[1m0s\u001b[0m 11ms/step\n",
      "\u001b[1m1/1\u001b[0m \u001b[32m━━━━━━━━━━━━━━━━━━━━\u001b[0m\u001b[37m\u001b[0m \u001b[1m0s\u001b[0m 11ms/step\n",
      "\u001b[1m1/1\u001b[0m \u001b[32m━━━━━━━━━━━━━━━━━━━━\u001b[0m\u001b[37m\u001b[0m \u001b[1m0s\u001b[0m 12ms/step\n",
      "\u001b[1m1/1\u001b[0m \u001b[32m━━━━━━━━━━━━━━━━━━━━\u001b[0m\u001b[37m\u001b[0m \u001b[1m0s\u001b[0m 12ms/step\n",
      "\u001b[1m1/1\u001b[0m \u001b[32m━━━━━━━━━━━━━━━━━━━━\u001b[0m\u001b[37m\u001b[0m \u001b[1m0s\u001b[0m 12ms/step\n",
      "\u001b[1m1/1\u001b[0m \u001b[32m━━━━━━━━━━━━━━━━━━━━\u001b[0m\u001b[37m\u001b[0m \u001b[1m0s\u001b[0m 12ms/step\n",
      "\u001b[1m1/1\u001b[0m \u001b[32m━━━━━━━━━━━━━━━━━━━━\u001b[0m\u001b[37m\u001b[0m \u001b[1m0s\u001b[0m 12ms/step\n",
      "\u001b[1m1/1\u001b[0m \u001b[32m━━━━━━━━━━━━━━━━━━━━\u001b[0m\u001b[37m\u001b[0m \u001b[1m0s\u001b[0m 12ms/step\n",
      "\u001b[1m1/1\u001b[0m \u001b[32m━━━━━━━━━━━━━━━━━━━━\u001b[0m\u001b[37m\u001b[0m \u001b[1m0s\u001b[0m 12ms/step\n",
      "\u001b[1m1/1\u001b[0m \u001b[32m━━━━━━━━━━━━━━━━━━━━\u001b[0m\u001b[37m\u001b[0m \u001b[1m0s\u001b[0m 12ms/step\n",
      "\u001b[1m1/1\u001b[0m \u001b[32m━━━━━━━━━━━━━━━━━━━━\u001b[0m\u001b[37m\u001b[0m \u001b[1m0s\u001b[0m 12ms/step\n",
      "\u001b[1m1/1\u001b[0m \u001b[32m━━━━━━━━━━━━━━━━━━━━\u001b[0m\u001b[37m\u001b[0m \u001b[1m0s\u001b[0m 12ms/step\n",
      "\u001b[1m1/1\u001b[0m \u001b[32m━━━━━━━━━━━━━━━━━━━━\u001b[0m\u001b[37m\u001b[0m \u001b[1m0s\u001b[0m 12ms/step\n",
      "\u001b[1m1/1\u001b[0m \u001b[32m━━━━━━━━━━━━━━━━━━━━\u001b[0m\u001b[37m\u001b[0m \u001b[1m0s\u001b[0m 12ms/step\n",
      "\u001b[1m1/1\u001b[0m \u001b[32m━━━━━━━━━━━━━━━━━━━━\u001b[0m\u001b[37m\u001b[0m \u001b[1m0s\u001b[0m 12ms/step\n",
      "\u001b[1m1/1\u001b[0m \u001b[32m━━━━━━━━━━━━━━━━━━━━\u001b[0m\u001b[37m\u001b[0m \u001b[1m0s\u001b[0m 12ms/step\n",
      "\u001b[1m1/1\u001b[0m \u001b[32m━━━━━━━━━━━━━━━━━━━━\u001b[0m\u001b[37m\u001b[0m \u001b[1m0s\u001b[0m 12ms/step\n",
      "\u001b[1m1/1\u001b[0m \u001b[32m━━━━━━━━━━━━━━━━━━━━\u001b[0m\u001b[37m\u001b[0m \u001b[1m0s\u001b[0m 12ms/step\n",
      "\u001b[1m1/1\u001b[0m \u001b[32m━━━━━━━━━━━━━━━━━━━━\u001b[0m\u001b[37m\u001b[0m \u001b[1m0s\u001b[0m 12ms/step\n",
      "\u001b[1m1/1\u001b[0m \u001b[32m━━━━━━━━━━━━━━━━━━━━\u001b[0m\u001b[37m\u001b[0m \u001b[1m0s\u001b[0m 12ms/step\n",
      "\u001b[1m1/1\u001b[0m \u001b[32m━━━━━━━━━━━━━━━━━━━━\u001b[0m\u001b[37m\u001b[0m \u001b[1m0s\u001b[0m 12ms/step\n",
      "\u001b[1m1/1\u001b[0m \u001b[32m━━━━━━━━━━━━━━━━━━━━\u001b[0m\u001b[37m\u001b[0m \u001b[1m0s\u001b[0m 12ms/step\n",
      "\u001b[1m1/1\u001b[0m \u001b[32m━━━━━━━━━━━━━━━━━━━━\u001b[0m\u001b[37m\u001b[0m \u001b[1m0s\u001b[0m 11ms/step\n",
      "\u001b[1m1/1\u001b[0m \u001b[32m━━━━━━━━━━━━━━━━━━━━\u001b[0m\u001b[37m\u001b[0m \u001b[1m0s\u001b[0m 11ms/step\n",
      "\u001b[1m1/1\u001b[0m \u001b[32m━━━━━━━━━━━━━━━━━━━━\u001b[0m\u001b[37m\u001b[0m \u001b[1m0s\u001b[0m 11ms/step\n",
      "\u001b[1m1/1\u001b[0m \u001b[32m━━━━━━━━━━━━━━━━━━━━\u001b[0m\u001b[37m\u001b[0m \u001b[1m0s\u001b[0m 12ms/step\n",
      "\u001b[1m1/1\u001b[0m \u001b[32m━━━━━━━━━━━━━━━━━━━━\u001b[0m\u001b[37m\u001b[0m \u001b[1m0s\u001b[0m 12ms/step\n",
      "\u001b[1m1/1\u001b[0m \u001b[32m━━━━━━━━━━━━━━━━━━━━\u001b[0m\u001b[37m\u001b[0m \u001b[1m0s\u001b[0m 12ms/step\n",
      "\u001b[1m1/1\u001b[0m \u001b[32m━━━━━━━━━━━━━━━━━━━━\u001b[0m\u001b[37m\u001b[0m \u001b[1m0s\u001b[0m 12ms/step\n",
      "\u001b[1m1/1\u001b[0m \u001b[32m━━━━━━━━━━━━━━━━━━━━\u001b[0m\u001b[37m\u001b[0m \u001b[1m0s\u001b[0m 12ms/step\n",
      "\u001b[1m1/1\u001b[0m \u001b[32m━━━━━━━━━━━━━━━━━━━━\u001b[0m\u001b[37m\u001b[0m \u001b[1m0s\u001b[0m 12ms/step\n",
      "\u001b[1m1/1\u001b[0m \u001b[32m━━━━━━━━━━━━━━━━━━━━\u001b[0m\u001b[37m\u001b[0m \u001b[1m0s\u001b[0m 12ms/step\n",
      "\u001b[1m1/1\u001b[0m \u001b[32m━━━━━━━━━━━━━━━━━━━━\u001b[0m\u001b[37m\u001b[0m \u001b[1m0s\u001b[0m 12ms/step\n",
      "\u001b[1m1/1\u001b[0m \u001b[32m━━━━━━━━━━━━━━━━━━━━\u001b[0m\u001b[37m\u001b[0m \u001b[1m0s\u001b[0m 12ms/step\n",
      "\u001b[1m1/1\u001b[0m \u001b[32m━━━━━━━━━━━━━━━━━━━━\u001b[0m\u001b[37m\u001b[0m \u001b[1m0s\u001b[0m 12ms/step\n"
     ]
    }
   ],
   "source": [
    "predicted_paths = evaluateModel(list_hurricanes,5)"
   ]
  },
  {
   "cell_type": "code",
   "execution_count": 97,
   "id": "b07c38b9-6ece-4938-a8ed-f0b33650e549",
   "metadata": {},
   "outputs": [
    {
     "data": {
      "text/plain": [
       "50"
      ]
     },
     "execution_count": 97,
     "metadata": {},
     "output_type": "execute_result"
    }
   ],
   "source": [
    "len(predicted_paths[1])"
   ]
  },
  {
   "cell_type": "code",
   "execution_count": 98,
   "id": "0a9fc8e1-69c2-4002-91be-81b70c5c2bc5",
   "metadata": {},
   "outputs": [
    {
     "data": {
      "text/plain": [
       "55"
      ]
     },
     "execution_count": 98,
     "metadata": {},
     "output_type": "execute_result"
    }
   ],
   "source": [
    "len(list_hurricanes[1])"
   ]
  },
  {
   "cell_type": "code",
   "execution_count": null,
   "id": "12d1b5ea-4122-4101-a665-0bb1198ad482",
   "metadata": {},
   "outputs": [],
   "source": []
  }
 ],
 "metadata": {
  "kernelspec": {
   "display_name": "Python 3 (ipykernel)",
   "language": "python",
   "name": "python3"
  },
  "language_info": {
   "codemirror_mode": {
    "name": "ipython",
    "version": 3
   },
   "file_extension": ".py",
   "mimetype": "text/x-python",
   "name": "python",
   "nbconvert_exporter": "python",
   "pygments_lexer": "ipython3",
   "version": "3.12.5"
  }
 },
 "nbformat": 4,
 "nbformat_minor": 5
}
