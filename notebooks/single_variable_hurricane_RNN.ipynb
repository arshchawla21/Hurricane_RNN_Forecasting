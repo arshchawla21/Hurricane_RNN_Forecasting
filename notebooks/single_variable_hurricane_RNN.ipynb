{
 "cells": [
  {
   "cell_type": "markdown",
   "id": "028811ef-b6df-4170-8a74-16f69a61df72",
   "metadata": {},
   "source": [
    "# Single Variable RNN Model for Hurricane Path Forestcasting"
   ]
  },
  {
   "cell_type": "code",
   "execution_count": 3,
   "id": "380c3ce9-1a94-44de-b643-b5f148a32a53",
   "metadata": {},
   "outputs": [],
   "source": [
    "import requests\n",
    "import pandas as pd\n",
    "import numpy as np\n",
    "import tensorflow as tf\n",
    "from tensorflow.keras.models import Sequential\n",
    "from tensorflow.keras.layers import LSTM, Dense, Dropout, GRU\n",
    "from sklearn.model_selection import train_test_split\n",
    "from sklearn.preprocessing import MinMaxScaler\n",
    "import matplotlib.pyplot as plt\n",
    "from keras.models import load_model\n",
    "import cartopy.crs as ccrs\n",
    "import cartopy.feature as cfeature\n",
    "from sklearn.decomposition import PCA"
   ]
  },
  {
   "cell_type": "code",
   "execution_count": 4,
   "id": "6aac79e5-1543-4f39-a3a1-d39842418a75",
   "metadata": {},
   "outputs": [],
   "source": [
    "from tensorflow.keras.optimizers import Adam"
   ]
  },
  {
   "cell_type": "code",
   "execution_count": null,
   "id": "85ae165c",
   "metadata": {},
   "outputs": [],
   "source": [
    "tf.debugging.set_log_device_placement(False)\n",
    "print(tf.config.get_visible_devices('GPU'))"
   ]
  },
  {
   "cell_type": "markdown",
   "id": "783d8275-9982-4a2e-88d1-f86dda2d5d34",
   "metadata": {},
   "source": [
    "## Preproccessing Hurricane Data"
   ]
  },
  {
   "cell_type": "markdown",
   "id": "421adfaf-67e5-40e9-b298-83a3fa98b761",
   "metadata": {},
   "source": [
    "The aim here is to build and evaulate a range of, baseline, single variable RNNs for hurricane forecasting. Hence, the only data we require is location (in the form of Longitude and Latitude) and time, the rest may be omitted as follows."
   ]
  },
  {
   "cell_type": "code",
   "execution_count": 5,
   "id": "55949580-81df-48c5-bc87-cd42628289c5",
   "metadata": {},
   "outputs": [],
   "source": [
    "# Obtain Cyclone Data\n",
    "df = pd.read_csv(\"../raw-data/hurricaneData.csv\")"
   ]
  },
  {
   "cell_type": "code",
   "execution_count": 6,
   "id": "bfb534fa-ca98-4d59-85a6-a17e14826bf9",
   "metadata": {},
   "outputs": [
    {
     "data": {
      "text/html": [
       "<div>\n",
       "<style scoped>\n",
       "    .dataframe tbody tr th:only-of-type {\n",
       "        vertical-align: middle;\n",
       "    }\n",
       "\n",
       "    .dataframe tbody tr th {\n",
       "        vertical-align: top;\n",
       "    }\n",
       "\n",
       "    .dataframe thead th {\n",
       "        text-align: right;\n",
       "    }\n",
       "</style>\n",
       "<table border=\"1\" class=\"dataframe\">\n",
       "  <thead>\n",
       "    <tr style=\"text-align: right;\">\n",
       "      <th></th>\n",
       "      <th>SID</th>\n",
       "      <th>SEASON</th>\n",
       "      <th>NUMBER</th>\n",
       "      <th>BASIN</th>\n",
       "      <th>SUBBASIN</th>\n",
       "      <th>NAME</th>\n",
       "      <th>ISO_TIME</th>\n",
       "      <th>NATURE</th>\n",
       "      <th>LAT</th>\n",
       "      <th>LON</th>\n",
       "      <th>WMO_WIND</th>\n",
       "      <th>WMO_PRES</th>\n",
       "      <th>WMO_AGENCY</th>\n",
       "      <th>TRACK_TYPE</th>\n",
       "      <th>DIST2LAND</th>\n",
       "      <th>LANDFALL</th>\n",
       "      <th>IFLAG</th>\n",
       "    </tr>\n",
       "  </thead>\n",
       "  <tbody>\n",
       "    <tr>\n",
       "      <th>0</th>\n",
       "      <td>1884177N17124</td>\n",
       "      <td>1884</td>\n",
       "      <td>14</td>\n",
       "      <td>WP</td>\n",
       "      <td>MM</td>\n",
       "      <td>UNNAMED</td>\n",
       "      <td>1884-06-24 16:00:00</td>\n",
       "      <td>NR</td>\n",
       "      <td>16.5</td>\n",
       "      <td>124.0</td>\n",
       "      <td></td>\n",
       "      <td></td>\n",
       "      <td></td>\n",
       "      <td>main</td>\n",
       "      <td>165</td>\n",
       "      <td>145</td>\n",
       "      <td>___________O___</td>\n",
       "    </tr>\n",
       "    <tr>\n",
       "      <th>1</th>\n",
       "      <td>1884177N17124</td>\n",
       "      <td>1884</td>\n",
       "      <td>14</td>\n",
       "      <td>WP</td>\n",
       "      <td>MM</td>\n",
       "      <td>UNNAMED</td>\n",
       "      <td>1884-06-24 18:00:00</td>\n",
       "      <td>NR</td>\n",
       "      <td>16.5</td>\n",
       "      <td>123.8</td>\n",
       "      <td></td>\n",
       "      <td></td>\n",
       "      <td></td>\n",
       "      <td>main</td>\n",
       "      <td>145</td>\n",
       "      <td>111</td>\n",
       "      <td>___________P___</td>\n",
       "    </tr>\n",
       "    <tr>\n",
       "      <th>2</th>\n",
       "      <td>1884177N17124</td>\n",
       "      <td>1884</td>\n",
       "      <td>14</td>\n",
       "      <td>WP</td>\n",
       "      <td>MM</td>\n",
       "      <td>UNNAMED</td>\n",
       "      <td>1884-06-24 21:00:00</td>\n",
       "      <td>NR</td>\n",
       "      <td>16.6</td>\n",
       "      <td>123.5</td>\n",
       "      <td></td>\n",
       "      <td></td>\n",
       "      <td></td>\n",
       "      <td>main</td>\n",
       "      <td>111</td>\n",
       "      <td>77</td>\n",
       "      <td>___________P___</td>\n",
       "    </tr>\n",
       "    <tr>\n",
       "      <th>3</th>\n",
       "      <td>1884177N17124</td>\n",
       "      <td>1884</td>\n",
       "      <td>14</td>\n",
       "      <td>WP</td>\n",
       "      <td>MM</td>\n",
       "      <td>UNNAMED</td>\n",
       "      <td>1884-06-25 00:00:00</td>\n",
       "      <td>NR</td>\n",
       "      <td>16.7</td>\n",
       "      <td>123.2</td>\n",
       "      <td></td>\n",
       "      <td></td>\n",
       "      <td></td>\n",
       "      <td>main</td>\n",
       "      <td>77</td>\n",
       "      <td>44</td>\n",
       "      <td>___________P___</td>\n",
       "    </tr>\n",
       "    <tr>\n",
       "      <th>4</th>\n",
       "      <td>1884177N17124</td>\n",
       "      <td>1884</td>\n",
       "      <td>14</td>\n",
       "      <td>WP</td>\n",
       "      <td>MM</td>\n",
       "      <td>UNNAMED</td>\n",
       "      <td>1884-06-25 03:00:00</td>\n",
       "      <td>NR</td>\n",
       "      <td>16.8</td>\n",
       "      <td>122.9</td>\n",
       "      <td></td>\n",
       "      <td></td>\n",
       "      <td></td>\n",
       "      <td>main</td>\n",
       "      <td>44</td>\n",
       "      <td>33</td>\n",
       "      <td>___________P___</td>\n",
       "    </tr>\n",
       "  </tbody>\n",
       "</table>\n",
       "</div>"
      ],
      "text/plain": [
       "             SID  SEASON  NUMBER BASIN SUBBASIN     NAME             ISO_TIME  \\\n",
       "0  1884177N17124    1884      14    WP       MM  UNNAMED  1884-06-24 16:00:00   \n",
       "1  1884177N17124    1884      14    WP       MM  UNNAMED  1884-06-24 18:00:00   \n",
       "2  1884177N17124    1884      14    WP       MM  UNNAMED  1884-06-24 21:00:00   \n",
       "3  1884177N17124    1884      14    WP       MM  UNNAMED  1884-06-25 00:00:00   \n",
       "4  1884177N17124    1884      14    WP       MM  UNNAMED  1884-06-25 03:00:00   \n",
       "\n",
       "  NATURE   LAT    LON WMO_WIND WMO_PRES WMO_AGENCY TRACK_TYPE  DIST2LAND  \\\n",
       "0     NR  16.5  124.0                                    main        165   \n",
       "1     NR  16.5  123.8                                    main        145   \n",
       "2     NR  16.6  123.5                                    main        111   \n",
       "3     NR  16.7  123.2                                    main         77   \n",
       "4     NR  16.8  122.9                                    main         44   \n",
       "\n",
       "  LANDFALL            IFLAG  \n",
       "0      145  ___________O___  \n",
       "1      111  ___________P___  \n",
       "2       77  ___________P___  \n",
       "3       44  ___________P___  \n",
       "4       33  ___________P___  "
      ]
     },
     "execution_count": 6,
     "metadata": {},
     "output_type": "execute_result"
    }
   ],
   "source": [
    "df.head()"
   ]
  },
  {
   "cell_type": "code",
   "execution_count": 7,
   "id": "50300645-782c-4064-b284-35d491a11a0c",
   "metadata": {},
   "outputs": [],
   "source": [
    "# Drop all attributes, expect Longitude, Latitude, Time and SID\n",
    "simple_df = df.drop(['SEASON','NUMBER','BASIN','SUBBASIN','NAME','NATURE','WMO_WIND','WMO_PRES','WMO_AGENCY','TRACK_TYPE','DIST2LAND','LANDFALL','IFLAG'],axis=1)"
   ]
  },
  {
   "cell_type": "code",
   "execution_count": 8,
   "id": "61064761-be5b-4670-a798-e1430114b051",
   "metadata": {},
   "outputs": [
    {
     "data": {
      "text/html": [
       "<div>\n",
       "<style scoped>\n",
       "    .dataframe tbody tr th:only-of-type {\n",
       "        vertical-align: middle;\n",
       "    }\n",
       "\n",
       "    .dataframe tbody tr th {\n",
       "        vertical-align: top;\n",
       "    }\n",
       "\n",
       "    .dataframe thead th {\n",
       "        text-align: right;\n",
       "    }\n",
       "</style>\n",
       "<table border=\"1\" class=\"dataframe\">\n",
       "  <thead>\n",
       "    <tr style=\"text-align: right;\">\n",
       "      <th></th>\n",
       "      <th>SID</th>\n",
       "      <th>ISO_TIME</th>\n",
       "      <th>LAT</th>\n",
       "      <th>LON</th>\n",
       "    </tr>\n",
       "  </thead>\n",
       "  <tbody>\n",
       "    <tr>\n",
       "      <th>0</th>\n",
       "      <td>1884177N17124</td>\n",
       "      <td>1884-06-24 16:00:00</td>\n",
       "      <td>16.5</td>\n",
       "      <td>124.0</td>\n",
       "    </tr>\n",
       "    <tr>\n",
       "      <th>1</th>\n",
       "      <td>1884177N17124</td>\n",
       "      <td>1884-06-24 18:00:00</td>\n",
       "      <td>16.5</td>\n",
       "      <td>123.8</td>\n",
       "    </tr>\n",
       "    <tr>\n",
       "      <th>2</th>\n",
       "      <td>1884177N17124</td>\n",
       "      <td>1884-06-24 21:00:00</td>\n",
       "      <td>16.6</td>\n",
       "      <td>123.5</td>\n",
       "    </tr>\n",
       "    <tr>\n",
       "      <th>3</th>\n",
       "      <td>1884177N17124</td>\n",
       "      <td>1884-06-25 00:00:00</td>\n",
       "      <td>16.7</td>\n",
       "      <td>123.2</td>\n",
       "    </tr>\n",
       "    <tr>\n",
       "      <th>4</th>\n",
       "      <td>1884177N17124</td>\n",
       "      <td>1884-06-25 03:00:00</td>\n",
       "      <td>16.8</td>\n",
       "      <td>122.9</td>\n",
       "    </tr>\n",
       "  </tbody>\n",
       "</table>\n",
       "</div>"
      ],
      "text/plain": [
       "             SID             ISO_TIME   LAT    LON\n",
       "0  1884177N17124  1884-06-24 16:00:00  16.5  124.0\n",
       "1  1884177N17124  1884-06-24 18:00:00  16.5  123.8\n",
       "2  1884177N17124  1884-06-24 21:00:00  16.6  123.5\n",
       "3  1884177N17124  1884-06-25 00:00:00  16.7  123.2\n",
       "4  1884177N17124  1884-06-25 03:00:00  16.8  122.9"
      ]
     },
     "execution_count": 8,
     "metadata": {},
     "output_type": "execute_result"
    }
   ],
   "source": [
    "# Simplified dataframe\n",
    "simple_df.head()"
   ]
  },
  {
   "cell_type": "code",
   "execution_count": 9,
   "id": "234d504c-f0ff-4f97-8f31-4d4046e41b65",
   "metadata": {},
   "outputs": [],
   "source": [
    "# Drop all data points prior to year=1900\n",
    "simple_df = simple_df.iloc[9461:]"
   ]
  },
  {
   "cell_type": "code",
   "execution_count": 10,
   "id": "38104266-4af1-41e3-829d-24a7d191227f",
   "metadata": {},
   "outputs": [],
   "source": [
    "# Convert ISO_TIME to datetime\n",
    "simple_df['ISO_TIME'] = pd.to_datetime(simple_df['ISO_TIME'], format='%d/%m/%Y %H:%M')"
   ]
  },
  {
   "cell_type": "code",
   "execution_count": 11,
   "id": "ec483537-2992-4b4c-be2f-53aa7ece302c",
   "metadata": {},
   "outputs": [],
   "source": [
    "# Remove all data points which are not in 3 hour increments \n",
    "simple_df = simple_df[simple_df['ISO_TIME'].dt.hour % 3 == 0]"
   ]
  },
  {
   "cell_type": "code",
   "execution_count": 12,
   "id": "a3d721e4-ce0a-4ee8-9688-d2d98ab6b48e",
   "metadata": {},
   "outputs": [],
   "source": [
    "# Convert longitudes and latitudes to x, y, z coordinates\n",
    "def FeatureColumnsXYZ(dframe):\n",
    "    dframe['x'] = np.cos(np.radians(dframe.LAT)) * np.cos(np.radians(dframe.LON))\n",
    "    dframe['y'] = np.cos(np.radians(dframe.LAT)) * np.sin(np.radians(dframe.LON))\n",
    "    dframe['z'] = np.sin(np.radians(dframe.LAT))\n",
    "    \n",
    "FeatureColumnsXYZ(simple_df)"
   ]
  },
  {
   "cell_type": "code",
   "execution_count": 13,
   "id": "f8b2d06d-dc04-4117-89ad-f393fc77070b",
   "metadata": {},
   "outputs": [
    {
     "data": {
      "text/html": [
       "<div>\n",
       "<style scoped>\n",
       "    .dataframe tbody tr th:only-of-type {\n",
       "        vertical-align: middle;\n",
       "    }\n",
       "\n",
       "    .dataframe tbody tr th {\n",
       "        vertical-align: top;\n",
       "    }\n",
       "\n",
       "    .dataframe thead th {\n",
       "        text-align: right;\n",
       "    }\n",
       "</style>\n",
       "<table border=\"1\" class=\"dataframe\">\n",
       "  <thead>\n",
       "    <tr style=\"text-align: right;\">\n",
       "      <th></th>\n",
       "      <th>SID</th>\n",
       "      <th>ISO_TIME</th>\n",
       "      <th>LAT</th>\n",
       "      <th>LON</th>\n",
       "      <th>x</th>\n",
       "      <th>y</th>\n",
       "      <th>z</th>\n",
       "    </tr>\n",
       "  </thead>\n",
       "  <tbody>\n",
       "    <tr>\n",
       "      <th>9461</th>\n",
       "      <td>1900171N15117</td>\n",
       "      <td>1900-06-19 18:00:00</td>\n",
       "      <td>15.4</td>\n",
       "      <td>117.2</td>\n",
       "      <td>-0.440686</td>\n",
       "      <td>0.857482</td>\n",
       "      <td>0.265556</td>\n",
       "    </tr>\n",
       "    <tr>\n",
       "      <th>9462</th>\n",
       "      <td>1900171N15117</td>\n",
       "      <td>1900-06-19 21:00:00</td>\n",
       "      <td>15.6</td>\n",
       "      <td>117.2</td>\n",
       "      <td>-0.440260</td>\n",
       "      <td>0.856653</td>\n",
       "      <td>0.268920</td>\n",
       "    </tr>\n",
       "    <tr>\n",
       "      <th>9463</th>\n",
       "      <td>1900171N15117</td>\n",
       "      <td>1900-06-20 00:00:00</td>\n",
       "      <td>15.9</td>\n",
       "      <td>117.0</td>\n",
       "      <td>-0.436621</td>\n",
       "      <td>0.856918</td>\n",
       "      <td>0.273959</td>\n",
       "    </tr>\n",
       "    <tr>\n",
       "      <th>9464</th>\n",
       "      <td>1900171N15117</td>\n",
       "      <td>1900-06-20 03:00:00</td>\n",
       "      <td>16.1</td>\n",
       "      <td>116.9</td>\n",
       "      <td>-0.434690</td>\n",
       "      <td>0.856820</td>\n",
       "      <td>0.277315</td>\n",
       "    </tr>\n",
       "    <tr>\n",
       "      <th>9466</th>\n",
       "      <td>1900171N15117</td>\n",
       "      <td>1900-06-20 06:00:00</td>\n",
       "      <td>16.4</td>\n",
       "      <td>116.6</td>\n",
       "      <td>-0.429542</td>\n",
       "      <td>0.857775</td>\n",
       "      <td>0.282341</td>\n",
       "    </tr>\n",
       "  </tbody>\n",
       "</table>\n",
       "</div>"
      ],
      "text/plain": [
       "                SID            ISO_TIME   LAT    LON         x         y  \\\n",
       "9461  1900171N15117 1900-06-19 18:00:00  15.4  117.2 -0.440686  0.857482   \n",
       "9462  1900171N15117 1900-06-19 21:00:00  15.6  117.2 -0.440260  0.856653   \n",
       "9463  1900171N15117 1900-06-20 00:00:00  15.9  117.0 -0.436621  0.856918   \n",
       "9464  1900171N15117 1900-06-20 03:00:00  16.1  116.9 -0.434690  0.856820   \n",
       "9466  1900171N15117 1900-06-20 06:00:00  16.4  116.6 -0.429542  0.857775   \n",
       "\n",
       "             z  \n",
       "9461  0.265556  \n",
       "9462  0.268920  \n",
       "9463  0.273959  \n",
       "9464  0.277315  \n",
       "9466  0.282341  "
      ]
     },
     "execution_count": 13,
     "metadata": {},
     "output_type": "execute_result"
    }
   ],
   "source": [
    "simple_df.head()"
   ]
  },
  {
   "cell_type": "markdown",
   "id": "3933021a-f13f-45d2-a93e-65ee650f892a",
   "metadata": {},
   "source": [
    "We must now remove all hurricanes in the dataset with too few datapoints (<15)"
   ]
  },
  {
   "cell_type": "code",
   "execution_count": 14,
   "id": "68014fba-b2e5-43f0-943c-de108df8b62a",
   "metadata": {},
   "outputs": [],
   "source": [
    "SID_values = []\n",
    "for value in simple_df['SID']:\n",
    "    if value not in SID_values:\n",
    "        SID_values.append(value)"
   ]
  },
  {
   "cell_type": "code",
   "execution_count": 15,
   "id": "fbea8492-d6ed-4841-ad50-1a313736e1a7",
   "metadata": {},
   "outputs": [],
   "source": [
    "grouped = simple_df.groupby('SID')"
   ]
  },
  {
   "cell_type": "code",
   "execution_count": 16,
   "id": "a7fc0434-fe44-4c53-9c1a-a1b8c81417cf",
   "metadata": {},
   "outputs": [],
   "source": [
    "# remove all hurricanes with less than 15 data points approx ~200\n",
    "SID_to_drop = []\n",
    "for value in SID_values:\n",
    "    if len(grouped.groups[value]) < 15:\n",
    "        if value not in SID_to_drop:\n",
    "            SID_to_drop.append(value)"
   ]
  },
  {
   "cell_type": "code",
   "execution_count": 17,
   "id": "cc8a33dc-267c-4d8a-94f8-3473e9867165",
   "metadata": {},
   "outputs": [],
   "source": [
    "def drop_rows_by_sid(df, sid_list):\n",
    "    # Drop rows where the SID is in the sid_list\n",
    "    df_filtered = df[~df['SID'].isin(sid_list)]\n",
    "    \n",
    "    return df_filtered\n",
    "simple_df = drop_rows_by_sid(simple_df,SID_to_drop)"
   ]
  },
  {
   "cell_type": "code",
   "execution_count": 18,
   "id": "d5880a85-5b87-45ee-86bc-7dd5fc946356",
   "metadata": {},
   "outputs": [],
   "source": [
    "grouped = simple_df.groupby('SID')"
   ]
  },
  {
   "cell_type": "code",
   "execution_count": 19,
   "id": "8a36f38d-a924-4fbd-92cc-1fa99b4a8876",
   "metadata": {},
   "outputs": [],
   "source": [
    "countSID = []\n",
    "for value in simple_df['SID']:\n",
    "    if value not in countSID:\n",
    "        countSID.append(value)"
   ]
  },
  {
   "cell_type": "code",
   "execution_count": 20,
   "id": "2f1d81ac-5203-497c-b1f0-111bd669a259",
   "metadata": {},
   "outputs": [
    {
     "name": "stdout",
     "output_type": "stream",
     "text": [
      "original: 3911\n",
      "new: 3649\n"
     ]
    }
   ],
   "source": [
    "# Confirm number of removed hurricanes\n",
    "print(\"original: \" + str(len(SID_values)))\n",
    "print(\"new: \" + str(len(countSID)))"
   ]
  },
  {
   "cell_type": "code",
   "execution_count": 75,
   "id": "f31aaa9e",
   "metadata": {},
   "outputs": [],
   "source": [
    "# Normalise all x, y, and z values between [0,1]\n",
    "def normalise_xyz_df(df):\n",
    "    norm_df = pd.DataFrame(df)\n",
    "    norm_df['x'] = (norm_df['x'] + 1) / 2\n",
    "    norm_df['y'] = (norm_df['y'] + 1) / 2\n",
    "    norm_df['z'] = (norm_df['z'] + 1) / 2\n",
    "    return norm_df"
   ]
  },
  {
   "cell_type": "code",
   "execution_count": 76,
   "id": "5b9a47f3",
   "metadata": {},
   "outputs": [],
   "source": [
    "# Normalise df\n",
    "norm_df = normalise_xyz_df(simple_df)"
   ]
  },
  {
   "cell_type": "code",
   "execution_count": 77,
   "id": "8aaa6432",
   "metadata": {},
   "outputs": [
    {
     "data": {
      "text/html": [
       "<div>\n",
       "<style scoped>\n",
       "    .dataframe tbody tr th:only-of-type {\n",
       "        vertical-align: middle;\n",
       "    }\n",
       "\n",
       "    .dataframe tbody tr th {\n",
       "        vertical-align: top;\n",
       "    }\n",
       "\n",
       "    .dataframe thead th {\n",
       "        text-align: right;\n",
       "    }\n",
       "</style>\n",
       "<table border=\"1\" class=\"dataframe\">\n",
       "  <thead>\n",
       "    <tr style=\"text-align: right;\">\n",
       "      <th></th>\n",
       "      <th>SID</th>\n",
       "      <th>ISO_TIME</th>\n",
       "      <th>LAT</th>\n",
       "      <th>LON</th>\n",
       "      <th>x</th>\n",
       "      <th>y</th>\n",
       "      <th>z</th>\n",
       "    </tr>\n",
       "  </thead>\n",
       "  <tbody>\n",
       "    <tr>\n",
       "      <th>9461</th>\n",
       "      <td>1900171N15117</td>\n",
       "      <td>1900-06-19 18:00:00</td>\n",
       "      <td>15.4</td>\n",
       "      <td>117.2</td>\n",
       "      <td>0.279657</td>\n",
       "      <td>0.928741</td>\n",
       "      <td>0.632778</td>\n",
       "    </tr>\n",
       "    <tr>\n",
       "      <th>9462</th>\n",
       "      <td>1900171N15117</td>\n",
       "      <td>1900-06-19 21:00:00</td>\n",
       "      <td>15.6</td>\n",
       "      <td>117.2</td>\n",
       "      <td>0.279870</td>\n",
       "      <td>0.928326</td>\n",
       "      <td>0.634460</td>\n",
       "    </tr>\n",
       "    <tr>\n",
       "      <th>9463</th>\n",
       "      <td>1900171N15117</td>\n",
       "      <td>1900-06-20 00:00:00</td>\n",
       "      <td>15.9</td>\n",
       "      <td>117.0</td>\n",
       "      <td>0.281689</td>\n",
       "      <td>0.928459</td>\n",
       "      <td>0.636980</td>\n",
       "    </tr>\n",
       "    <tr>\n",
       "      <th>9464</th>\n",
       "      <td>1900171N15117</td>\n",
       "      <td>1900-06-20 03:00:00</td>\n",
       "      <td>16.1</td>\n",
       "      <td>116.9</td>\n",
       "      <td>0.282655</td>\n",
       "      <td>0.928410</td>\n",
       "      <td>0.638657</td>\n",
       "    </tr>\n",
       "    <tr>\n",
       "      <th>9466</th>\n",
       "      <td>1900171N15117</td>\n",
       "      <td>1900-06-20 06:00:00</td>\n",
       "      <td>16.4</td>\n",
       "      <td>116.6</td>\n",
       "      <td>0.285229</td>\n",
       "      <td>0.928887</td>\n",
       "      <td>0.641171</td>\n",
       "    </tr>\n",
       "  </tbody>\n",
       "</table>\n",
       "</div>"
      ],
      "text/plain": [
       "                SID            ISO_TIME   LAT    LON         x         y  \\\n",
       "9461  1900171N15117 1900-06-19 18:00:00  15.4  117.2  0.279657  0.928741   \n",
       "9462  1900171N15117 1900-06-19 21:00:00  15.6  117.2  0.279870  0.928326   \n",
       "9463  1900171N15117 1900-06-20 00:00:00  15.9  117.0  0.281689  0.928459   \n",
       "9464  1900171N15117 1900-06-20 03:00:00  16.1  116.9  0.282655  0.928410   \n",
       "9466  1900171N15117 1900-06-20 06:00:00  16.4  116.6  0.285229  0.928887   \n",
       "\n",
       "             z  \n",
       "9461  0.632778  \n",
       "9462  0.634460  \n",
       "9463  0.636980  \n",
       "9464  0.638657  \n",
       "9466  0.641171  "
      ]
     },
     "execution_count": 77,
     "metadata": {},
     "output_type": "execute_result"
    }
   ],
   "source": [
    "norm_df.head()"
   ]
  },
  {
   "cell_type": "markdown",
   "id": "306d5ac9-e2d5-4da6-8f9e-e314e4d08376",
   "metadata": {},
   "source": [
    "## Building the Model"
   ]
  },
  {
   "cell_type": "code",
   "execution_count": 79,
   "id": "8ada5335-f538-488a-af0d-bda56e71bb12",
   "metadata": {},
   "outputs": [],
   "source": [
    "def create_sequences(df, window_size):\n",
    "    sequences = []\n",
    "    targets = []\n",
    "    grouped = df.groupby('SID')\n",
    "    \n",
    "    for _, group in grouped:\n",
    "        for i in range(len(group) - window_size):\n",
    "            seq = group[['x', 'y', 'z']].iloc[i:i+window_size].values\n",
    "            target = group[['x', 'y', 'z']].iloc[i+window_size].values\n",
    "            sequences.append(seq)\n",
    "            targets.append(target)\n",
    "    \n",
    "    return np.array(sequences), np.array(targets)"
   ]
  },
  {
   "cell_type": "code",
   "execution_count": 80,
   "id": "d72368d0-1aee-4bfd-b2b7-7ebd29b435ed",
   "metadata": {},
   "outputs": [],
   "source": [
    "window_size = 5\n",
    "X, y = create_sequences(simple_df, window_size)"
   ]
  },
  {
   "cell_type": "code",
   "execution_count": 81,
   "id": "521eee82",
   "metadata": {},
   "outputs": [],
   "source": [
    "X_train_val, X_eval, y_train_val, y_eval = train_test_split(X, y, test_size=0.1)"
   ]
  },
  {
   "cell_type": "code",
   "execution_count": 82,
   "id": "704e102b-4757-4796-b6ce-43cb0c421ac4",
   "metadata": {},
   "outputs": [],
   "source": [
    "## Split the data into training and evaluation\n",
    "X_train, X_val, y_train, y_val = train_test_split(X_train_val, y_train_val, test_size=0.25)"
   ]
  },
  {
   "cell_type": "code",
   "execution_count": 85,
   "id": "64034ddf-e794-458f-9b8e-6a284bb61103",
   "metadata": {},
   "outputs": [
    {
     "name": "stdout",
     "output_type": "stream",
     "text": [
      "(138927, 5, 3)\n",
      "(138927, 3)\n",
      "(20582, 5, 3)\n",
      "(20582, 3)\n"
     ]
    }
   ],
   "source": [
    "# Understand data shape\n",
    "print(X_train.shape)\n",
    "print(y_train.shape)\n",
    "print(X_eval.shape)\n",
    "print(y_eval.shape)"
   ]
  },
  {
   "cell_type": "code",
   "execution_count": 86,
   "id": "6e02020a-36b7-4194-97aa-5bc382200f0a",
   "metadata": {},
   "outputs": [],
   "source": [
    "def build_model(input_shape):\n",
    "    model = Sequential()\n",
    "    model.add(LSTM(128, input_shape=input_shape, activation='relu'))\n",
    "    model.add(Dropout(0.5))\n",
    "    model.add(Dense(3))  # Predicting x, y, z coordinates\n",
    "    opt=Adam(learning_rate=0.0001)\n",
    "    model.compile(optimizer=opt, loss='mse')\n",
    "    return model"
   ]
  },
  {
   "cell_type": "code",
   "execution_count": 87,
   "id": "476e6ff3-387e-4f0f-a585-e4e035b1ac10",
   "metadata": {},
   "outputs": [
    {
     "name": "stderr",
     "output_type": "stream",
     "text": [
      "/home/arshchawla21/anaconda3/envs/tf-gpu-env/lib/python3.12/site-packages/keras/src/layers/rnn/rnn.py:204: UserWarning: Do not pass an `input_shape`/`input_dim` argument to a layer. When using Sequential models, prefer using an `Input(shape)` object as the first layer in the model instead.\n",
      "  super().__init__(**kwargs)\n"
     ]
    }
   ],
   "source": [
    "model = build_model(input_shape=(X_train.shape[1], X_train.shape[2]))"
   ]
  },
  {
   "cell_type": "code",
   "execution_count": 88,
   "id": "a324ba45-07c1-4725-845c-b42da0f28e67",
   "metadata": {},
   "outputs": [
    {
     "data": {
      "text/html": [
       "<pre style=\"white-space:pre;overflow-x:auto;line-height:normal;font-family:Menlo,'DejaVu Sans Mono',consolas,'Courier New',monospace\"><span style=\"font-weight: bold\">Model: \"sequential\"</span>\n",
       "</pre>\n"
      ],
      "text/plain": [
       "\u001b[1mModel: \"sequential\"\u001b[0m\n"
      ]
     },
     "metadata": {},
     "output_type": "display_data"
    },
    {
     "data": {
      "text/html": [
       "<pre style=\"white-space:pre;overflow-x:auto;line-height:normal;font-family:Menlo,'DejaVu Sans Mono',consolas,'Courier New',monospace\">┏━━━━━━━━━━━━━━━━━━━━━━━━━━━━━━━━━┳━━━━━━━━━━━━━━━━━━━━━━━━┳━━━━━━━━━━━━━━━┓\n",
       "┃<span style=\"font-weight: bold\"> Layer (type)                    </span>┃<span style=\"font-weight: bold\"> Output Shape           </span>┃<span style=\"font-weight: bold\">       Param # </span>┃\n",
       "┡━━━━━━━━━━━━━━━━━━━━━━━━━━━━━━━━━╇━━━━━━━━━━━━━━━━━━━━━━━━╇━━━━━━━━━━━━━━━┩\n",
       "│ lstm (<span style=\"color: #0087ff; text-decoration-color: #0087ff\">LSTM</span>)                     │ (<span style=\"color: #00d7ff; text-decoration-color: #00d7ff\">None</span>, <span style=\"color: #00af00; text-decoration-color: #00af00\">128</span>)            │        <span style=\"color: #00af00; text-decoration-color: #00af00\">67,584</span> │\n",
       "├─────────────────────────────────┼────────────────────────┼───────────────┤\n",
       "│ dropout (<span style=\"color: #0087ff; text-decoration-color: #0087ff\">Dropout</span>)               │ (<span style=\"color: #00d7ff; text-decoration-color: #00d7ff\">None</span>, <span style=\"color: #00af00; text-decoration-color: #00af00\">128</span>)            │             <span style=\"color: #00af00; text-decoration-color: #00af00\">0</span> │\n",
       "├─────────────────────────────────┼────────────────────────┼───────────────┤\n",
       "│ dense (<span style=\"color: #0087ff; text-decoration-color: #0087ff\">Dense</span>)                   │ (<span style=\"color: #00d7ff; text-decoration-color: #00d7ff\">None</span>, <span style=\"color: #00af00; text-decoration-color: #00af00\">3</span>)              │           <span style=\"color: #00af00; text-decoration-color: #00af00\">387</span> │\n",
       "└─────────────────────────────────┴────────────────────────┴───────────────┘\n",
       "</pre>\n"
      ],
      "text/plain": [
       "┏━━━━━━━━━━━━━━━━━━━━━━━━━━━━━━━━━┳━━━━━━━━━━━━━━━━━━━━━━━━┳━━━━━━━━━━━━━━━┓\n",
       "┃\u001b[1m \u001b[0m\u001b[1mLayer (type)                   \u001b[0m\u001b[1m \u001b[0m┃\u001b[1m \u001b[0m\u001b[1mOutput Shape          \u001b[0m\u001b[1m \u001b[0m┃\u001b[1m \u001b[0m\u001b[1m      Param #\u001b[0m\u001b[1m \u001b[0m┃\n",
       "┡━━━━━━━━━━━━━━━━━━━━━━━━━━━━━━━━━╇━━━━━━━━━━━━━━━━━━━━━━━━╇━━━━━━━━━━━━━━━┩\n",
       "│ lstm (\u001b[38;5;33mLSTM\u001b[0m)                     │ (\u001b[38;5;45mNone\u001b[0m, \u001b[38;5;34m128\u001b[0m)            │        \u001b[38;5;34m67,584\u001b[0m │\n",
       "├─────────────────────────────────┼────────────────────────┼───────────────┤\n",
       "│ dropout (\u001b[38;5;33mDropout\u001b[0m)               │ (\u001b[38;5;45mNone\u001b[0m, \u001b[38;5;34m128\u001b[0m)            │             \u001b[38;5;34m0\u001b[0m │\n",
       "├─────────────────────────────────┼────────────────────────┼───────────────┤\n",
       "│ dense (\u001b[38;5;33mDense\u001b[0m)                   │ (\u001b[38;5;45mNone\u001b[0m, \u001b[38;5;34m3\u001b[0m)              │           \u001b[38;5;34m387\u001b[0m │\n",
       "└─────────────────────────────────┴────────────────────────┴───────────────┘\n"
      ]
     },
     "metadata": {},
     "output_type": "display_data"
    },
    {
     "data": {
      "text/html": [
       "<pre style=\"white-space:pre;overflow-x:auto;line-height:normal;font-family:Menlo,'DejaVu Sans Mono',consolas,'Courier New',monospace\"><span style=\"font-weight: bold\"> Total params: </span><span style=\"color: #00af00; text-decoration-color: #00af00\">67,971</span> (265.51 KB)\n",
       "</pre>\n"
      ],
      "text/plain": [
       "\u001b[1m Total params: \u001b[0m\u001b[38;5;34m67,971\u001b[0m (265.51 KB)\n"
      ]
     },
     "metadata": {},
     "output_type": "display_data"
    },
    {
     "data": {
      "text/html": [
       "<pre style=\"white-space:pre;overflow-x:auto;line-height:normal;font-family:Menlo,'DejaVu Sans Mono',consolas,'Courier New',monospace\"><span style=\"font-weight: bold\"> Trainable params: </span><span style=\"color: #00af00; text-decoration-color: #00af00\">67,971</span> (265.51 KB)\n",
       "</pre>\n"
      ],
      "text/plain": [
       "\u001b[1m Trainable params: \u001b[0m\u001b[38;5;34m67,971\u001b[0m (265.51 KB)\n"
      ]
     },
     "metadata": {},
     "output_type": "display_data"
    },
    {
     "data": {
      "text/html": [
       "<pre style=\"white-space:pre;overflow-x:auto;line-height:normal;font-family:Menlo,'DejaVu Sans Mono',consolas,'Courier New',monospace\"><span style=\"font-weight: bold\"> Non-trainable params: </span><span style=\"color: #00af00; text-decoration-color: #00af00\">0</span> (0.00 B)\n",
       "</pre>\n"
      ],
      "text/plain": [
       "\u001b[1m Non-trainable params: \u001b[0m\u001b[38;5;34m0\u001b[0m (0.00 B)\n"
      ]
     },
     "metadata": {},
     "output_type": "display_data"
    }
   ],
   "source": [
    "model.summary()"
   ]
  },
  {
   "cell_type": "code",
   "execution_count": 89,
   "id": "618db4f7-4caa-448b-a198-a328dd23982d",
   "metadata": {},
   "outputs": [
    {
     "name": "stdout",
     "output_type": "stream",
     "text": [
      "Epoch 1/20\n"
     ]
    },
    {
     "name": "stderr",
     "output_type": "stream",
     "text": [
      "WARNING: All log messages before absl::InitializeLog() is called are written to STDERR\n",
      "I0000 00:00:1726576858.681324  101752 service.cc:146] XLA service 0xe21d370 initialized for platform CUDA (this does not guarantee that XLA will be used). Devices:\n",
      "I0000 00:00:1726576858.681364  101752 service.cc:154]   StreamExecutor device (0): NVIDIA GeForce RTX 4070 SUPER, Compute Capability 8.9\n",
      "2024-09-17 22:40:58.704087: I tensorflow/compiler/mlir/tensorflow/utils/dump_mlir_util.cc:268] disabling MLIR crash reproducer, set env var `MLIR_CRASH_REPRODUCER_DIRECTORY` to enable.\n",
      "2024-09-17 22:40:58.792907: I external/local_xla/xla/stream_executor/cuda/cuda_dnn.cc:531] Loaded cuDNN version 8907\n",
      "2024-09-17 22:40:59.551095: I external/local_xla/xla/stream_executor/cuda/cuda_asm_compiler.cc:393] ptxas warning : Registers are spilled to local memory in function 'gemm_fusion_dot_24', 224 bytes spill stores, 224 bytes spill loads\n",
      "\n",
      "2024-09-17 22:40:59.612747: I external/local_xla/xla/stream_executor/cuda/cuda_asm_compiler.cc:393] ptxas warning : Registers are spilled to local memory in function 'gemm_fusion_dot_24', 428 bytes spill stores, 428 bytes spill loads\n",
      "\n"
     ]
    },
    {
     "name": "stdout",
     "output_type": "stream",
     "text": [
      "\u001b[1m  75/2171\u001b[0m \u001b[37m━━━━━━━━━━━━━━━━━━━━\u001b[0m \u001b[1m4s\u001b[0m 2ms/step - loss: 0.3101  "
     ]
    },
    {
     "name": "stderr",
     "output_type": "stream",
     "text": [
      "I0000 00:00:1726576860.430043  101752 device_compiler.h:188] Compiled cluster using XLA!  This line is logged at most once for the lifetime of the process.\n"
     ]
    },
    {
     "name": "stdout",
     "output_type": "stream",
     "text": [
      "\u001b[1m2158/2171\u001b[0m \u001b[32m━━━━━━━━━━━━━━━━━━━\u001b[0m\u001b[37m━\u001b[0m \u001b[1m0s\u001b[0m 2ms/step - loss: 0.0690"
     ]
    },
    {
     "name": "stderr",
     "output_type": "stream",
     "text": [
      "2024-09-17 22:41:05.372851: I external/local_xla/xla/stream_executor/cuda/cuda_asm_compiler.cc:393] ptxas warning : Registers are spilled to local memory in function 'gemm_fusion_dot_24', 224 bytes spill stores, 224 bytes spill loads\n",
      "\n",
      "2024-09-17 22:41:05.407940: I external/local_xla/xla/stream_executor/cuda/cuda_asm_compiler.cc:393] ptxas warning : Registers are spilled to local memory in function 'gemm_fusion_dot_24', 428 bytes spill stores, 428 bytes spill loads\n",
      "\n"
     ]
    },
    {
     "name": "stdout",
     "output_type": "stream",
     "text": [
      "\u001b[1m2171/2171\u001b[0m \u001b[32m━━━━━━━━━━━━━━━━━━━━\u001b[0m\u001b[37m\u001b[0m \u001b[1m9s\u001b[0m 3ms/step - loss: 0.0687 - val_loss: 6.2300e-04\n",
      "Epoch 2/20\n",
      "\u001b[1m2171/2171\u001b[0m \u001b[32m━━━━━━━━━━━━━━━━━━━━\u001b[0m\u001b[37m\u001b[0m \u001b[1m6s\u001b[0m 3ms/step - loss: 0.0081 - val_loss: 4.8273e-04\n",
      "Epoch 3/20\n",
      "\u001b[1m2171/2171\u001b[0m \u001b[32m━━━━━━━━━━━━━━━━━━━━\u001b[0m\u001b[37m\u001b[0m \u001b[1m6s\u001b[0m 3ms/step - loss: 0.0060 - val_loss: 5.1697e-04\n",
      "Epoch 4/20\n",
      "\u001b[1m2171/2171\u001b[0m \u001b[32m━━━━━━━━━━━━━━━━━━━━\u001b[0m\u001b[37m\u001b[0m \u001b[1m6s\u001b[0m 3ms/step - loss: 0.0047 - val_loss: 4.3138e-04\n",
      "Epoch 5/20\n",
      "\u001b[1m2171/2171\u001b[0m \u001b[32m━━━━━━━━━━━━━━━━━━━━\u001b[0m\u001b[37m\u001b[0m \u001b[1m6s\u001b[0m 3ms/step - loss: 0.0036 - val_loss: 3.7062e-04\n",
      "Epoch 6/20\n",
      "\u001b[1m2171/2171\u001b[0m \u001b[32m━━━━━━━━━━━━━━━━━━━━\u001b[0m\u001b[37m\u001b[0m \u001b[1m6s\u001b[0m 3ms/step - loss: 0.0028 - val_loss: 3.7612e-04\n",
      "Epoch 7/20\n",
      "\u001b[1m2171/2171\u001b[0m \u001b[32m━━━━━━━━━━━━━━━━━━━━\u001b[0m\u001b[37m\u001b[0m \u001b[1m6s\u001b[0m 3ms/step - loss: 0.0023 - val_loss: 3.0843e-04\n",
      "Epoch 8/20\n",
      "\u001b[1m2171/2171\u001b[0m \u001b[32m━━━━━━━━━━━━━━━━━━━━\u001b[0m\u001b[37m\u001b[0m \u001b[1m6s\u001b[0m 3ms/step - loss: 0.0020 - val_loss: 2.6814e-04\n",
      "Epoch 9/20\n",
      "\u001b[1m2171/2171\u001b[0m \u001b[32m━━━━━━━━━━━━━━━━━━━━\u001b[0m\u001b[37m\u001b[0m \u001b[1m6s\u001b[0m 3ms/step - loss: 0.0018 - val_loss: 2.5151e-04\n",
      "Epoch 10/20\n",
      "\u001b[1m2171/2171\u001b[0m \u001b[32m━━━━━━━━━━━━━━━━━━━━\u001b[0m\u001b[37m\u001b[0m \u001b[1m6s\u001b[0m 3ms/step - loss: 0.0016 - val_loss: 2.3683e-04\n",
      "Epoch 11/20\n",
      "\u001b[1m2171/2171\u001b[0m \u001b[32m━━━━━━━━━━━━━━━━━━━━\u001b[0m\u001b[37m\u001b[0m \u001b[1m6s\u001b[0m 3ms/step - loss: 0.0016 - val_loss: 2.0781e-04\n",
      "Epoch 12/20\n",
      "\u001b[1m2171/2171\u001b[0m \u001b[32m━━━━━━━━━━━━━━━━━━━━\u001b[0m\u001b[37m\u001b[0m \u001b[1m6s\u001b[0m 3ms/step - loss: 0.0015 - val_loss: 1.9094e-04\n",
      "Epoch 13/20\n",
      "\u001b[1m2171/2171\u001b[0m \u001b[32m━━━━━━━━━━━━━━━━━━━━\u001b[0m\u001b[37m\u001b[0m \u001b[1m6s\u001b[0m 3ms/step - loss: 0.0015 - val_loss: 1.8005e-04\n",
      "Epoch 14/20\n",
      "\u001b[1m2171/2171\u001b[0m \u001b[32m━━━━━━━━━━━━━━━━━━━━\u001b[0m\u001b[37m\u001b[0m \u001b[1m6s\u001b[0m 3ms/step - loss: 0.0014 - val_loss: 1.7200e-04\n",
      "Epoch 15/20\n",
      "\u001b[1m2171/2171\u001b[0m \u001b[32m━━━━━━━━━━━━━━━━━━━━\u001b[0m\u001b[37m\u001b[0m \u001b[1m6s\u001b[0m 3ms/step - loss: 0.0014 - val_loss: 1.8101e-04\n",
      "Epoch 16/20\n",
      "\u001b[1m2171/2171\u001b[0m \u001b[32m━━━━━━━━━━━━━━━━━━━━\u001b[0m\u001b[37m\u001b[0m \u001b[1m6s\u001b[0m 3ms/step - loss: 0.0014 - val_loss: 1.4487e-04\n",
      "Epoch 17/20\n",
      "\u001b[1m2171/2171\u001b[0m \u001b[32m━━━━━━━━━━━━━━━━━━━━\u001b[0m\u001b[37m\u001b[0m \u001b[1m6s\u001b[0m 3ms/step - loss: 0.0014 - val_loss: 1.4126e-04\n",
      "Epoch 18/20\n",
      "\u001b[1m2171/2171\u001b[0m \u001b[32m━━━━━━━━━━━━━━━━━━━━\u001b[0m\u001b[37m\u001b[0m \u001b[1m6s\u001b[0m 3ms/step - loss: 0.0014 - val_loss: 1.3026e-04\n",
      "Epoch 19/20\n",
      "\u001b[1m2171/2171\u001b[0m \u001b[32m━━━━━━━━━━━━━━━━━━━━\u001b[0m\u001b[37m\u001b[0m \u001b[1m6s\u001b[0m 3ms/step - loss: 0.0014 - val_loss: 1.6764e-04\n",
      "Epoch 20/20\n",
      "\u001b[1m2171/2171\u001b[0m \u001b[32m━━━━━━━━━━━━━━━━━━━━\u001b[0m\u001b[37m\u001b[0m \u001b[1m6s\u001b[0m 3ms/step - loss: 0.0014 - val_loss: 1.4683e-04\n"
     ]
    }
   ],
   "source": [
    "history = model.fit(X_train, y_train, epochs=20, batch_size=64, validation_data=(X_val, y_val))"
   ]
  },
  {
   "cell_type": "code",
   "execution_count": 90,
   "id": "78a23731-8cb5-4320-ab85-210d09b0f791",
   "metadata": {},
   "outputs": [],
   "source": [
    "loss = history.history['loss']\n",
    "val_loss = history.history['val_loss']"
   ]
  },
  {
   "cell_type": "code",
   "execution_count": 91,
   "id": "635e9c76-6c61-4ea8-986d-68c79e97dca3",
   "metadata": {},
   "outputs": [],
   "source": [
    "epochs_range = range(1,20)"
   ]
  },
  {
   "cell_type": "code",
   "execution_count": 92,
   "id": "4ca2e697-2b1a-444c-9855-8450171b6447",
   "metadata": {},
   "outputs": [
    {
     "data": {
      "image/png": "[encoded data removed]",
      "text/plain": [
       "<Figure size 640x480 with 1 Axes>"
      ]
     },
     "metadata": {},
     "output_type": "display_data"
    }
   ],
   "source": [
    "# visualise training loss/validation loss vs. epochs \n",
    "plt.subplot(1, 2, 2)\n",
    "plt.plot(epochs_range, loss[1:], label='Training Loss')\n",
    "plt.plot(epochs_range, val_loss[1:], label='Validation Loss')\n",
    "plt.legend(loc='upper right')\n",
    "plt.title('Training and Validation Loss')\n",
    "plt.show()"
   ]
  },
  {
   "cell_type": "code",
   "execution_count": 537,
   "id": "972b9c13-c239-404b-8b0d-f10f3066028f",
   "metadata": {},
   "outputs": [],
   "source": [
    "# save the model\n",
    "model.save(\"../normalised_models/single_variable_norm_LSTM128_batch32_dropout0.5_Dense_lr_0.0001_ws8.keras\")"
   ]
  },
  {
   "cell_type": "code",
   "execution_count": 93,
   "id": "6937f7bb-fbd0-47d0-9bd7-65e71d5e00f0",
   "metadata": {},
   "outputs": [
    {
     "name": "stdout",
     "output_type": "stream",
     "text": [
      "\u001b[1m644/644\u001b[0m \u001b[32m━━━━━━━━━━━━━━━━━━━━\u001b[0m\u001b[37m\u001b[0m \u001b[1m1s\u001b[0m 2ms/step - loss: 1.4800e-04\n",
      "Evaluation Loss: 0.00014850847946945578\n"
     ]
    }
   ],
   "source": [
    "# evaluate against evaluation data\n",
    "eval_loss = model.evaluate(X_eval, y_eval)\n",
    "print(f\"Evaluation Loss: {eval_loss}\")"
   ]
  },
  {
   "cell_type": "markdown",
   "id": "e732cc39-8cf0-4979-a019-86f7a112cd40",
   "metadata": {},
   "source": [
    "## Test Model Against a Real Hurricane"
   ]
  },
  {
   "cell_type": "code",
   "execution_count": 21,
   "id": "af22a3cc",
   "metadata": {},
   "outputs": [],
   "source": [
    "model = load_model(\"../models/ibtracs_lstm_model_v5_10epoch_batch1024_LSTM64_DENSE3.keras\")"
   ]
  },
  {
   "cell_type": "code",
   "execution_count": 22,
   "id": "577bf8d6-e6ee-4135-9fa8-5d47031d14f9",
   "metadata": {},
   "outputs": [],
   "source": [
    "def get_points_for_sid(df, sid):\n",
    "    # Filter the DataFrame for the given SID\n",
    "    filtered_df = df[df['SID'] == sid]\n",
    "    # Extract the x, y, and z columns and convert them to a 2D NumPy array\n",
    "    points_array = filtered_df[['x', 'y', 'z']].to_numpy()\n",
    "    return points_array"
   ]
  },
  {
   "cell_type": "code",
   "execution_count": 44,
   "id": "f13f35b1-3a42-4d0e-88d4-0de8d6e5e5c2",
   "metadata": {},
   "outputs": [],
   "source": [
    "sid = \"2014117N10145\""
   ]
  },
  {
   "cell_type": "code",
   "execution_count": 45,
   "id": "c7593a22-fabc-40dd-9e0d-5f9f3669e00d",
   "metadata": {},
   "outputs": [],
   "source": [
    "test_hurricane = get_points_for_sid(simple_df,sid)"
   ]
  },
  {
   "cell_type": "code",
   "execution_count": 46,
   "id": "5fe4f22f",
   "metadata": {},
   "outputs": [
    {
     "data": {
      "text/plain": [
       "array([[-0.80965383,  0.56063089,  0.17364818],\n",
       "       [-0.81232686,  0.55621181,  0.17536673],\n",
       "       [-0.81400907,  0.55319999,  0.17708474],\n",
       "       [-0.81567766,  0.55018153,  0.17880222],\n",
       "       [-0.81759319,  0.54733093,  0.17880222],\n",
       "       [-0.8189739 ,  0.54412496,  0.18223553],\n",
       "       [-0.81938688,  0.54234034,  0.18566662],\n",
       "       [-0.81950936,  0.54036686,  0.190809  ],\n",
       "       [-0.81931786,  0.53819124,  0.19765734],\n",
       "       [-0.8193787 ,  0.5361864 ,  0.2027873 ],\n",
       "       [-0.81941255,  0.53416832,  0.20791169],\n",
       "       [-0.81879959,  0.53376874,  0.2113248 ],\n",
       "       [-0.81879073,  0.53172892,  0.21643961],\n",
       "       [-0.81875477,  0.52967621,  0.2215485 ],\n",
       "       [-0.81835791,  0.52739569,  0.22835087],\n",
       "       [-0.81883087,  0.52366419,  0.23514211],\n",
       "       [-0.81833912,  0.52133951,  0.2419219 ],\n",
       "       [-0.81689475,  0.52041935,  0.24868989],\n",
       "       [-0.81541058,  0.51947383,  0.25544576],\n",
       "       [-0.81298046,  0.51992269,  0.26218918],\n",
       "       [-0.81141861,  0.51892385,  0.26891982],\n",
       "       [-0.80850602,  0.51905164,  0.27731465],\n",
       "       [-0.80775998,  0.51658406,  0.28401534],\n",
       "       [-0.80649611,  0.51577578,  0.2890318 ],\n",
       "       [-0.8056736 ,  0.51327069,  0.29570805],\n",
       "       [-0.80391286,  0.51214897,  0.30236989],\n",
       "       [-0.80165684,  0.51071173,  0.31067643],\n",
       "       [-0.79938287,  0.51122667,  0.31564904],\n",
       "       [-0.79708766,  0.51172118,  0.32061299],\n",
       "       [-0.79566408,  0.51080726,  0.32556815],\n",
       "       [-0.79332756,  0.51126472,  0.33051439],\n",
       "       [-0.79056567,  0.51339935,  0.33380686],\n",
       "       [-0.78729545,  0.51519171,  0.33873792],\n",
       "       [-0.78259603,  0.51798901,  0.3452982 ],\n",
       "       [-0.77694091,  0.52208263,  0.35184165],\n",
       "       [-0.77030981,  0.52744214,  0.35836795],\n",
       "       [-0.76505751,  0.53172882,  0.36325123],\n",
       "       [-0.75923594,  0.53558204,  0.36974676],\n",
       "       [-0.7538939 ,  0.53973502,  0.37460659],\n",
       "       [-0.74797345,  0.54343452,  0.38107038],\n",
       "       [-0.74295559,  0.54575513,  0.38751559],\n",
       "       [-0.74075717,  0.54414023,  0.39394191],\n",
       "       [-0.74041182,  0.53991758,  0.40034903],\n",
       "       [-0.73964699,  0.53738499,  0.40514159],\n",
       "       [-0.74036677,  0.53396936,  0.40833046],\n",
       "       [-0.74173472,  0.52712343,  0.41469324],\n",
       "       [-0.74391385,  0.51896149,  0.42103581]])"
      ]
     },
     "execution_count": 46,
     "metadata": {},
     "output_type": "execute_result"
    }
   ],
   "source": [
    "test_hurricane"
   ]
  },
  {
   "cell_type": "code",
   "execution_count": 47,
   "id": "219aed5a-1f61-48c3-ab87-b24cbff3795f",
   "metadata": {},
   "outputs": [],
   "source": [
    "def normalise_xyz_array(array):\n",
    "    norm_array = (array + 1) / 2\n",
    "    return norm_array"
   ]
  },
  {
   "cell_type": "code",
   "execution_count": 48,
   "id": "e7724993",
   "metadata": {},
   "outputs": [],
   "source": [
    "def descale_xyz_array(scaled_array):\n",
    "    original_array = (scaled_array * 2) -1\n",
    "    return original_array"
   ]
  },
  {
   "cell_type": "code",
   "execution_count": 49,
   "id": "c861adc2",
   "metadata": {},
   "outputs": [],
   "source": [
    "# test_hurricane_norm = normalise_xyz_array(test_hurricane)"
   ]
  },
  {
   "cell_type": "code",
   "execution_count": 50,
   "id": "be7861f7",
   "metadata": {},
   "outputs": [],
   "source": [
    "# test_hurricane_norm"
   ]
  },
  {
   "cell_type": "code",
   "execution_count": 51,
   "id": "136e7f0f-ec9c-451e-b428-6c01b679c927",
   "metadata": {},
   "outputs": [],
   "source": [
    "def predict_path(model, initial_sequence, steps):\n",
    "    path = []\n",
    "    current_sequence = initial_sequence\n",
    "    \n",
    "    for _ in range(steps):\n",
    "        # Predict the next point\n",
    "        next_point = model.predict(np.expand_dims(current_sequence, axis=0))\n",
    "        \n",
    "        # Append the prediction to the path\n",
    "        path.append(next_point[0])\n",
    "        \n",
    "        # Update the current sequence by appending the predicted point\n",
    "        current_sequence = np.append(current_sequence[1:], next_point, axis=0)\n",
    "    \n",
    "    return np.array(path)"
   ]
  },
  {
   "cell_type": "code",
   "execution_count": 52,
   "id": "d7978d37",
   "metadata": {},
   "outputs": [
    {
     "name": "stdout",
     "output_type": "stream",
     "text": [
      "\u001b[1m1/1\u001b[0m \u001b[32m━━━━━━━━━━━━━━━━━━━━\u001b[0m\u001b[37m\u001b[0m \u001b[1m0s\u001b[0m 118ms/step\n",
      "\u001b[1m1/1\u001b[0m \u001b[32m━━━━━━━━━━━━━━━━━━━━\u001b[0m\u001b[37m\u001b[0m \u001b[1m0s\u001b[0m 17ms/step\n",
      "\u001b[1m1/1\u001b[0m \u001b[32m━━━━━━━━━━━━━━━━━━━━\u001b[0m\u001b[37m\u001b[0m \u001b[1m0s\u001b[0m 15ms/step\n",
      "\u001b[1m1/1\u001b[0m \u001b[32m━━━━━━━━━━━━━━━━━━━━\u001b[0m\u001b[37m\u001b[0m \u001b[1m0s\u001b[0m 13ms/step\n",
      "\u001b[1m1/1\u001b[0m \u001b[32m━━━━━━━━━━━━━━━━━━━━\u001b[0m\u001b[37m\u001b[0m \u001b[1m0s\u001b[0m 13ms/step\n",
      "\u001b[1m1/1\u001b[0m \u001b[32m━━━━━━━━━━━━━━━━━━━━\u001b[0m\u001b[37m\u001b[0m \u001b[1m0s\u001b[0m 12ms/step\n",
      "\u001b[1m1/1\u001b[0m \u001b[32m━━━━━━━━━━━━━━━━━━━━\u001b[0m\u001b[37m\u001b[0m \u001b[1m0s\u001b[0m 13ms/step\n",
      "\u001b[1m1/1\u001b[0m \u001b[32m━━━━━━━━━━━━━━━━━━━━\u001b[0m\u001b[37m\u001b[0m \u001b[1m0s\u001b[0m 13ms/step\n",
      "\u001b[1m1/1\u001b[0m \u001b[32m━━━━━━━━━━━━━━━━━━━━\u001b[0m\u001b[37m\u001b[0m \u001b[1m0s\u001b[0m 13ms/step\n",
      "\u001b[1m1/1\u001b[0m \u001b[32m━━━━━━━━━━━━━━━━━━━━\u001b[0m\u001b[37m\u001b[0m \u001b[1m0s\u001b[0m 12ms/step\n",
      "\u001b[1m1/1\u001b[0m \u001b[32m━━━━━━━━━━━━━━━━━━━━\u001b[0m\u001b[37m\u001b[0m \u001b[1m0s\u001b[0m 12ms/step\n",
      "\u001b[1m1/1\u001b[0m \u001b[32m━━━━━━━━━━━━━━━━━━━━\u001b[0m\u001b[37m\u001b[0m \u001b[1m0s\u001b[0m 13ms/step\n",
      "\u001b[1m1/1\u001b[0m \u001b[32m━━━━━━━━━━━━━━━━━━━━\u001b[0m\u001b[37m\u001b[0m \u001b[1m0s\u001b[0m 12ms/step\n",
      "\u001b[1m1/1\u001b[0m \u001b[32m━━━━━━━━━━━━━━━━━━━━\u001b[0m\u001b[37m\u001b[0m \u001b[1m0s\u001b[0m 12ms/step\n",
      "\u001b[1m1/1\u001b[0m \u001b[32m━━━━━━━━━━━━━━━━━━━━\u001b[0m\u001b[37m\u001b[0m \u001b[1m0s\u001b[0m 11ms/step\n",
      "\u001b[1m1/1\u001b[0m \u001b[32m━━━━━━━━━━━━━━━━━━━━\u001b[0m\u001b[37m\u001b[0m \u001b[1m0s\u001b[0m 12ms/step\n",
      "\u001b[1m1/1\u001b[0m \u001b[32m━━━━━━━━━━━━━━━━━━━━\u001b[0m\u001b[37m\u001b[0m \u001b[1m0s\u001b[0m 13ms/step\n",
      "\u001b[1m1/1\u001b[0m \u001b[32m━━━━━━━━━━━━━━━━━━━━\u001b[0m\u001b[37m\u001b[0m \u001b[1m0s\u001b[0m 12ms/step\n",
      "\u001b[1m1/1\u001b[0m \u001b[32m━━━━━━━━━━━━━━━━━━━━\u001b[0m\u001b[37m\u001b[0m \u001b[1m0s\u001b[0m 11ms/step\n",
      "\u001b[1m1/1\u001b[0m \u001b[32m━━━━━━━━━━━━━━━━━━━━\u001b[0m\u001b[37m\u001b[0m \u001b[1m0s\u001b[0m 12ms/step\n",
      "\u001b[1m1/1\u001b[0m \u001b[32m━━━━━━━━━━━━━━━━━━━━\u001b[0m\u001b[37m\u001b[0m \u001b[1m0s\u001b[0m 11ms/step\n",
      "\u001b[1m1/1\u001b[0m \u001b[32m━━━━━━━━━━━━━━━━━━━━\u001b[0m\u001b[37m\u001b[0m \u001b[1m0s\u001b[0m 11ms/step\n",
      "\u001b[1m1/1\u001b[0m \u001b[32m━━━━━━━━━━━━━━━━━━━━\u001b[0m\u001b[37m\u001b[0m \u001b[1m0s\u001b[0m 11ms/step\n",
      "\u001b[1m1/1\u001b[0m \u001b[32m━━━━━━━━━━━━━━━━━━━━\u001b[0m\u001b[37m\u001b[0m \u001b[1m0s\u001b[0m 11ms/step\n",
      "\u001b[1m1/1\u001b[0m \u001b[32m━━━━━━━━━━━━━━━━━━━━\u001b[0m\u001b[37m\u001b[0m \u001b[1m0s\u001b[0m 11ms/step\n",
      "\u001b[1m1/1\u001b[0m \u001b[32m━━━━━━━━━━━━━━━━━━━━\u001b[0m\u001b[37m\u001b[0m \u001b[1m0s\u001b[0m 12ms/step\n",
      "\u001b[1m1/1\u001b[0m \u001b[32m━━━━━━━━━━━━━━━━━━━━\u001b[0m\u001b[37m\u001b[0m \u001b[1m0s\u001b[0m 11ms/step\n",
      "\u001b[1m1/1\u001b[0m \u001b[32m━━━━━━━━━━━━━━━━━━━━\u001b[0m\u001b[37m\u001b[0m \u001b[1m0s\u001b[0m 11ms/step\n",
      "\u001b[1m1/1\u001b[0m \u001b[32m━━━━━━━━━━━━━━━━━━━━\u001b[0m\u001b[37m\u001b[0m \u001b[1m0s\u001b[0m 11ms/step\n",
      "\u001b[1m1/1\u001b[0m \u001b[32m━━━━━━━━━━━━━━━━━━━━\u001b[0m\u001b[37m\u001b[0m \u001b[1m0s\u001b[0m 11ms/step\n",
      "\u001b[1m1/1\u001b[0m \u001b[32m━━━━━━━━━━━━━━━━━━━━\u001b[0m\u001b[37m\u001b[0m \u001b[1m0s\u001b[0m 12ms/step\n",
      "\u001b[1m1/1\u001b[0m \u001b[32m━━━━━━━━━━━━━━━━━━━━\u001b[0m\u001b[37m\u001b[0m \u001b[1m0s\u001b[0m 12ms/step\n",
      "\u001b[1m1/1\u001b[0m \u001b[32m━━━━━━━━━━━━━━━━━━━━\u001b[0m\u001b[37m\u001b[0m \u001b[1m0s\u001b[0m 11ms/step\n",
      "\u001b[1m1/1\u001b[0m \u001b[32m━━━━━━━━━━━━━━━━━━━━\u001b[0m\u001b[37m\u001b[0m \u001b[1m0s\u001b[0m 12ms/step\n",
      "\u001b[1m1/1\u001b[0m \u001b[32m━━━━━━━━━━━━━━━━━━━━\u001b[0m\u001b[37m\u001b[0m \u001b[1m0s\u001b[0m 12ms/step\n",
      "\u001b[1m1/1\u001b[0m \u001b[32m━━━━━━━━━━━━━━━━━━━━\u001b[0m\u001b[37m\u001b[0m \u001b[1m0s\u001b[0m 12ms/step\n",
      "\u001b[1m1/1\u001b[0m \u001b[32m━━━━━━━━━━━━━━━━━━━━\u001b[0m\u001b[37m\u001b[0m \u001b[1m0s\u001b[0m 11ms/step\n",
      "\u001b[1m1/1\u001b[0m \u001b[32m━━━━━━━━━━━━━━━━━━━━\u001b[0m\u001b[37m\u001b[0m \u001b[1m0s\u001b[0m 12ms/step\n",
      "\u001b[1m1/1\u001b[0m \u001b[32m━━━━━━━━━━━━━━━━━━━━\u001b[0m\u001b[37m\u001b[0m \u001b[1m0s\u001b[0m 12ms/step\n",
      "\u001b[1m1/1\u001b[0m \u001b[32m━━━━━━━━━━━━━━━━━━━━\u001b[0m\u001b[37m\u001b[0m \u001b[1m0s\u001b[0m 12ms/step\n"
     ]
    }
   ],
   "source": [
    "# Example: Predicting the next 35 steps from the first 5 sequence in the evaluation set\n",
    "predicted_path = predict_path(model, test_hurricane[0:5], steps=40)"
   ]
  },
  {
   "cell_type": "code",
   "execution_count": 53,
   "id": "d7633f32",
   "metadata": {},
   "outputs": [],
   "source": [
    "# denorm_pred_path = descale_xyz_array(predicted_path)"
   ]
  },
  {
   "cell_type": "code",
   "execution_count": 54,
   "id": "4601ef71-f7c3-4130-940b-d8e52ce3fd67",
   "metadata": {},
   "outputs": [
    {
     "data": {
      "image/png": "[encoded data removed]",
      "text/plain": [
       "<Figure size 1400x600 with 3 Axes>"
      ]
     },
     "metadata": {},
     "output_type": "display_data"
    }
   ],
   "source": [
    "# visualise the performance of the model\n",
    "def plot_predicted_vs_actual(actual_path, pred_path, start_index):\n",
    "    # Calculate the end index based on the start index and the length of the predicted path\n",
    "    end_index = start_index + len(pred_path)\n",
    "    \n",
    "    # Ensure the predicted path fits within the bounds of the actual path\n",
    "    if end_index > len(actual_path):\n",
    "        raise ValueError(\"Predicted path exceeds bounds of actual path. Adjust the start_index or predicted_path length.\")\n",
    "    \n",
    "    plt.figure(figsize=(14, 6))\n",
    "\n",
    "    # Plotting x-coordinate over time\n",
    "    plt.subplot(1, 3, 1)\n",
    "    plt.plot(range(len(actual_path)), actual_path[:, 0], label='Actual x', color='blue', marker='o')\n",
    "    plt.plot(range(start_index, end_index), pred_path[:, 0], label='Predicted x', color='red', linestyle='--', marker='x')\n",
    "    plt.xlabel('Time Step')\n",
    "    plt.ylabel('x Coordinate')\n",
    "    plt.title('Actual vs Predicted x')\n",
    "    plt.legend()\n",
    "\n",
    "    # Plotting y-coordinate over time\n",
    "    plt.subplot(1, 3, 2)\n",
    "    plt.plot(range(len(actual_path)), actual_path[:, 1], label='Actual y', color='blue', marker='o')\n",
    "    plt.plot(range(start_index, end_index), pred_path[:, 1], label='Predicted y', color='red', linestyle='--', marker='x')\n",
    "    plt.xlabel('Time Step')\n",
    "    plt.ylabel('y Coordinate')\n",
    "    plt.title('Actual vs Predicted y')\n",
    "    plt.legend()\n",
    "\n",
    "    # Plotting z-coordinate over time\n",
    "    plt.subplot(1, 3, 3)\n",
    "    plt.plot(range(len(actual_path)), actual_path[:, 2], label='Actual z', color='blue', marker='o')\n",
    "    plt.plot(range(start_index, end_index), pred_path[:, 2], label='Predicted z', color='red', linestyle='--', marker='x')\n",
    "    plt.xlabel('Time Step')\n",
    "    plt.ylabel('z Coordinate')\n",
    "    plt.title('Actual vs Predicted z')\n",
    "    plt.legend()\n",
    "\n",
    "    plt.tight_layout()\n",
    "    plt.show()\n",
    "\n",
    "plot_predicted_vs_actual(test_hurricane,predicted_path,5)"
   ]
  },
  {
   "cell_type": "code",
   "execution_count": 55,
   "id": "d9f8badb-a63e-4f57-894f-0ef553fb6983",
   "metadata": {},
   "outputs": [],
   "source": [
    "def append_unit_sphere_coord(dframe):\n",
    "    dframe['x'] = np.cos(np.radians(dframe.Lat)) * np.cos(np.radians(dframe.Lon))\n",
    "    dframe['y'] = np.cos(np.radians(dframe.Lat)) * np.sin(np.radians(dframe.Lon))\n",
    "    dframe['z'] = np.sin(np.radians(dframe.Lat))"
   ]
  },
  {
   "cell_type": "code",
   "execution_count": 56,
   "id": "c6496197",
   "metadata": {},
   "outputs": [],
   "source": [
    "def unit_sphere_to_lat_lon(x, y, z):\n",
    "    lat = np.degrees(np.arcsin(z))\n",
    "    lon = np.degrees(np.arctan2(y, x))\n",
    "    if lon < 0:\n",
    "        lon += 360\n",
    "    return lat, lon"
   ]
  },
  {
   "cell_type": "code",
   "execution_count": 57,
   "id": "cfdec6eb",
   "metadata": {},
   "outputs": [],
   "source": [
    "predicted_track_lat_lon = pd.DataFrame(columns=['Lat', 'Lon', 'x', 'y', 'z']).astype(np.float32)"
   ]
  },
  {
   "cell_type": "code",
   "execution_count": 58,
   "id": "d0782adf",
   "metadata": {},
   "outputs": [],
   "source": [
    "for i in range(len(predicted_path)):\n",
    "    lat, lon = unit_sphere_to_lat_lon(predicted_path[i][0], predicted_path[i][1], predicted_path[i][2])\n",
    "    predicted_track_lat_lon.loc[i] = [lat, lon, predicted_path[i][0], predicted_path[i][1], predicted_path[i][2]]"
   ]
  },
  {
   "cell_type": "code",
   "execution_count": 59,
   "id": "0636ca58",
   "metadata": {},
   "outputs": [],
   "source": [
    "track_lat_lon = grouped.get_group(sid)"
   ]
  },
  {
   "cell_type": "code",
   "execution_count": 60,
   "id": "6a89c4da",
   "metadata": {},
   "outputs": [],
   "source": [
    "def MapTemplate(plt_title, min_lat=0, max_lat=60, min_lon=100, max_lon=280):\n",
    "    fig = plt.figure(figsize=(10, 8))\n",
    "    ax = fig.add_subplot(1, 1, 1, projection=ccrs.LambertConformal(central_longitude=180, standard_parallels=(20, 40)))\n",
    "    # ax.set_extent([100, 280, 0, 60], crs=ccrs.PlateCarree())\n",
    "    ax.set_extent([min_lon, max_lon, min_lat, max_lat], crs=ccrs.PlateCarree())\n",
    "    ax.add_feature(cfeature.COASTLINE)\n",
    "    ax.add_feature(cfeature.BORDERS, linestyle=':')\n",
    "    ax.gridlines(draw_labels=True, x_inline=False, y_inline=False)\n",
    "    plt.suptitle(plt_title, fontsize=16)\n",
    "    plt.tight_layout(rect=[0, 0.2, 1, 1])  # Adjust the rect parameter to leave space for the title\n",
    "    return ax"
   ]
  },
  {
   "cell_type": "code",
   "execution_count": 61,
   "id": "e99867b4",
   "metadata": {},
   "outputs": [
    {
     "data": {
      "text/plain": [
       "<matplotlib.collections.PathCollection at 0x282a2bb00>"
      ]
     },
     "execution_count": 61,
     "metadata": {},
     "output_type": "execute_result"
    },
    {
     "data": {
      "image/png": "[encoded data removed]",
      "text/plain": [
       "<Figure size 1000x800 with 1 Axes>"
      ]
     },
     "metadata": {},
     "output_type": "display_data"
    }
   ],
   "source": [
    "map = MapTemplate('Predicted Track on the Earth', min_lon=100, max_lon=300)\n",
    "\n",
    "map.scatter(track_lat_lon['LON'].tolist(), track_lat_lon['LAT'].tolist(), transform=ccrs.PlateCarree(), color='blue', s=7, marker='o')\n",
    "map.scatter(predicted_track_lat_lon['Lon'].tolist(), predicted_track_lat_lon['Lat'].tolist(), transform=ccrs.PlateCarree(), color='red', s=9, marker='x')"
   ]
  },
  {
   "cell_type": "code",
   "execution_count": 62,
   "id": "de46d675-8587-4582-8786-8d128b979181",
   "metadata": {},
   "outputs": [
    {
     "data": {
      "text/html": [
       "<div>\n",
       "<style scoped>\n",
       "    .dataframe tbody tr th:only-of-type {\n",
       "        vertical-align: middle;\n",
       "    }\n",
       "\n",
       "    .dataframe tbody tr th {\n",
       "        vertical-align: top;\n",
       "    }\n",
       "\n",
       "    .dataframe thead th {\n",
       "        text-align: right;\n",
       "    }\n",
       "</style>\n",
       "<table border=\"1\" class=\"dataframe\">\n",
       "  <thead>\n",
       "    <tr style=\"text-align: right;\">\n",
       "      <th></th>\n",
       "      <th>SID</th>\n",
       "      <th>ISO_TIME</th>\n",
       "      <th>LAT</th>\n",
       "      <th>LON</th>\n",
       "      <th>x</th>\n",
       "      <th>y</th>\n",
       "      <th>z</th>\n",
       "    </tr>\n",
       "  </thead>\n",
       "  <tbody>\n",
       "    <tr>\n",
       "      <th>223534</th>\n",
       "      <td>2014117N10145</td>\n",
       "      <td>2014-04-26 12:00:00</td>\n",
       "      <td>10.0</td>\n",
       "      <td>145.3</td>\n",
       "      <td>-0.809654</td>\n",
       "      <td>0.560631</td>\n",
       "      <td>0.173648</td>\n",
       "    </tr>\n",
       "    <tr>\n",
       "      <th>223535</th>\n",
       "      <td>2014117N10145</td>\n",
       "      <td>2014-04-26 15:00:00</td>\n",
       "      <td>10.1</td>\n",
       "      <td>145.6</td>\n",
       "      <td>-0.812327</td>\n",
       "      <td>0.556212</td>\n",
       "      <td>0.175367</td>\n",
       "    </tr>\n",
       "    <tr>\n",
       "      <th>223536</th>\n",
       "      <td>2014117N10145</td>\n",
       "      <td>2014-04-26 18:00:00</td>\n",
       "      <td>10.2</td>\n",
       "      <td>145.8</td>\n",
       "      <td>-0.814009</td>\n",
       "      <td>0.553200</td>\n",
       "      <td>0.177085</td>\n",
       "    </tr>\n",
       "    <tr>\n",
       "      <th>223537</th>\n",
       "      <td>2014117N10145</td>\n",
       "      <td>2014-04-26 21:00:00</td>\n",
       "      <td>10.3</td>\n",
       "      <td>146.0</td>\n",
       "      <td>-0.815678</td>\n",
       "      <td>0.550182</td>\n",
       "      <td>0.178802</td>\n",
       "    </tr>\n",
       "    <tr>\n",
       "      <th>223538</th>\n",
       "      <td>2014117N10145</td>\n",
       "      <td>2014-04-27 00:00:00</td>\n",
       "      <td>10.3</td>\n",
       "      <td>146.2</td>\n",
       "      <td>-0.817593</td>\n",
       "      <td>0.547331</td>\n",
       "      <td>0.178802</td>\n",
       "    </tr>\n",
       "    <tr>\n",
       "      <th>223539</th>\n",
       "      <td>2014117N10145</td>\n",
       "      <td>2014-04-27 03:00:00</td>\n",
       "      <td>10.5</td>\n",
       "      <td>146.4</td>\n",
       "      <td>-0.818974</td>\n",
       "      <td>0.544125</td>\n",
       "      <td>0.182236</td>\n",
       "    </tr>\n",
       "    <tr>\n",
       "      <th>223540</th>\n",
       "      <td>2014117N10145</td>\n",
       "      <td>2014-04-27 06:00:00</td>\n",
       "      <td>10.7</td>\n",
       "      <td>146.5</td>\n",
       "      <td>-0.819387</td>\n",
       "      <td>0.542340</td>\n",
       "      <td>0.185667</td>\n",
       "    </tr>\n",
       "    <tr>\n",
       "      <th>223541</th>\n",
       "      <td>2014117N10145</td>\n",
       "      <td>2014-04-27 09:00:00</td>\n",
       "      <td>11.0</td>\n",
       "      <td>146.6</td>\n",
       "      <td>-0.819509</td>\n",
       "      <td>0.540367</td>\n",
       "      <td>0.190809</td>\n",
       "    </tr>\n",
       "    <tr>\n",
       "      <th>223542</th>\n",
       "      <td>2014117N10145</td>\n",
       "      <td>2014-04-27 12:00:00</td>\n",
       "      <td>11.4</td>\n",
       "      <td>146.7</td>\n",
       "      <td>-0.819318</td>\n",
       "      <td>0.538191</td>\n",
       "      <td>0.197657</td>\n",
       "    </tr>\n",
       "    <tr>\n",
       "      <th>223543</th>\n",
       "      <td>2014117N10145</td>\n",
       "      <td>2014-04-27 15:00:00</td>\n",
       "      <td>11.7</td>\n",
       "      <td>146.8</td>\n",
       "      <td>-0.819379</td>\n",
       "      <td>0.536186</td>\n",
       "      <td>0.202787</td>\n",
       "    </tr>\n",
       "    <tr>\n",
       "      <th>223544</th>\n",
       "      <td>2014117N10145</td>\n",
       "      <td>2014-04-27 18:00:00</td>\n",
       "      <td>12.0</td>\n",
       "      <td>146.9</td>\n",
       "      <td>-0.819413</td>\n",
       "      <td>0.534168</td>\n",
       "      <td>0.207912</td>\n",
       "    </tr>\n",
       "    <tr>\n",
       "      <th>223545</th>\n",
       "      <td>2014117N10145</td>\n",
       "      <td>2014-04-27 21:00:00</td>\n",
       "      <td>12.2</td>\n",
       "      <td>146.9</td>\n",
       "      <td>-0.818800</td>\n",
       "      <td>0.533769</td>\n",
       "      <td>0.211325</td>\n",
       "    </tr>\n",
       "    <tr>\n",
       "      <th>223546</th>\n",
       "      <td>2014117N10145</td>\n",
       "      <td>2014-04-28 00:00:00</td>\n",
       "      <td>12.5</td>\n",
       "      <td>147.0</td>\n",
       "      <td>-0.818791</td>\n",
       "      <td>0.531729</td>\n",
       "      <td>0.216440</td>\n",
       "    </tr>\n",
       "    <tr>\n",
       "      <th>223547</th>\n",
       "      <td>2014117N10145</td>\n",
       "      <td>2014-04-28 03:00:00</td>\n",
       "      <td>12.8</td>\n",
       "      <td>147.1</td>\n",
       "      <td>-0.818755</td>\n",
       "      <td>0.529676</td>\n",
       "      <td>0.221548</td>\n",
       "    </tr>\n",
       "    <tr>\n",
       "      <th>223548</th>\n",
       "      <td>2014117N10145</td>\n",
       "      <td>2014-04-28 06:00:00</td>\n",
       "      <td>13.2</td>\n",
       "      <td>147.2</td>\n",
       "      <td>-0.818358</td>\n",
       "      <td>0.527396</td>\n",
       "      <td>0.228351</td>\n",
       "    </tr>\n",
       "    <tr>\n",
       "      <th>223549</th>\n",
       "      <td>2014117N10145</td>\n",
       "      <td>2014-04-28 09:00:00</td>\n",
       "      <td>13.6</td>\n",
       "      <td>147.4</td>\n",
       "      <td>-0.818831</td>\n",
       "      <td>0.523664</td>\n",
       "      <td>0.235142</td>\n",
       "    </tr>\n",
       "    <tr>\n",
       "      <th>223550</th>\n",
       "      <td>2014117N10145</td>\n",
       "      <td>2014-04-28 12:00:00</td>\n",
       "      <td>14.0</td>\n",
       "      <td>147.5</td>\n",
       "      <td>-0.818339</td>\n",
       "      <td>0.521340</td>\n",
       "      <td>0.241922</td>\n",
       "    </tr>\n",
       "    <tr>\n",
       "      <th>223551</th>\n",
       "      <td>2014117N10145</td>\n",
       "      <td>2014-04-28 15:00:00</td>\n",
       "      <td>14.4</td>\n",
       "      <td>147.5</td>\n",
       "      <td>-0.816895</td>\n",
       "      <td>0.520419</td>\n",
       "      <td>0.248690</td>\n",
       "    </tr>\n",
       "    <tr>\n",
       "      <th>223552</th>\n",
       "      <td>2014117N10145</td>\n",
       "      <td>2014-04-28 18:00:00</td>\n",
       "      <td>14.8</td>\n",
       "      <td>147.5</td>\n",
       "      <td>-0.815411</td>\n",
       "      <td>0.519474</td>\n",
       "      <td>0.255446</td>\n",
       "    </tr>\n",
       "    <tr>\n",
       "      <th>223553</th>\n",
       "      <td>2014117N10145</td>\n",
       "      <td>2014-04-28 21:00:00</td>\n",
       "      <td>15.2</td>\n",
       "      <td>147.4</td>\n",
       "      <td>-0.812980</td>\n",
       "      <td>0.519923</td>\n",
       "      <td>0.262189</td>\n",
       "    </tr>\n",
       "    <tr>\n",
       "      <th>223554</th>\n",
       "      <td>2014117N10145</td>\n",
       "      <td>2014-04-29 00:00:00</td>\n",
       "      <td>15.6</td>\n",
       "      <td>147.4</td>\n",
       "      <td>-0.811419</td>\n",
       "      <td>0.518924</td>\n",
       "      <td>0.268920</td>\n",
       "    </tr>\n",
       "    <tr>\n",
       "      <th>223555</th>\n",
       "      <td>2014117N10145</td>\n",
       "      <td>2014-04-29 03:00:00</td>\n",
       "      <td>16.1</td>\n",
       "      <td>147.3</td>\n",
       "      <td>-0.808506</td>\n",
       "      <td>0.519052</td>\n",
       "      <td>0.277315</td>\n",
       "    </tr>\n",
       "    <tr>\n",
       "      <th>223556</th>\n",
       "      <td>2014117N10145</td>\n",
       "      <td>2014-04-29 06:00:00</td>\n",
       "      <td>16.5</td>\n",
       "      <td>147.4</td>\n",
       "      <td>-0.807760</td>\n",
       "      <td>0.516584</td>\n",
       "      <td>0.284015</td>\n",
       "    </tr>\n",
       "    <tr>\n",
       "      <th>223557</th>\n",
       "      <td>2014117N10145</td>\n",
       "      <td>2014-04-29 09:00:00</td>\n",
       "      <td>16.8</td>\n",
       "      <td>147.4</td>\n",
       "      <td>-0.806496</td>\n",
       "      <td>0.515776</td>\n",
       "      <td>0.289032</td>\n",
       "    </tr>\n",
       "    <tr>\n",
       "      <th>223558</th>\n",
       "      <td>2014117N10145</td>\n",
       "      <td>2014-04-29 12:00:00</td>\n",
       "      <td>17.2</td>\n",
       "      <td>147.5</td>\n",
       "      <td>-0.805674</td>\n",
       "      <td>0.513271</td>\n",
       "      <td>0.295708</td>\n",
       "    </tr>\n",
       "    <tr>\n",
       "      <th>223559</th>\n",
       "      <td>2014117N10145</td>\n",
       "      <td>2014-04-29 15:00:00</td>\n",
       "      <td>17.6</td>\n",
       "      <td>147.5</td>\n",
       "      <td>-0.803913</td>\n",
       "      <td>0.512149</td>\n",
       "      <td>0.302370</td>\n",
       "    </tr>\n",
       "    <tr>\n",
       "      <th>223560</th>\n",
       "      <td>2014117N10145</td>\n",
       "      <td>2014-04-29 18:00:00</td>\n",
       "      <td>18.1</td>\n",
       "      <td>147.5</td>\n",
       "      <td>-0.801657</td>\n",
       "      <td>0.510712</td>\n",
       "      <td>0.310676</td>\n",
       "    </tr>\n",
       "    <tr>\n",
       "      <th>223561</th>\n",
       "      <td>2014117N10145</td>\n",
       "      <td>2014-04-29 21:00:00</td>\n",
       "      <td>18.4</td>\n",
       "      <td>147.4</td>\n",
       "      <td>-0.799383</td>\n",
       "      <td>0.511227</td>\n",
       "      <td>0.315649</td>\n",
       "    </tr>\n",
       "    <tr>\n",
       "      <th>223562</th>\n",
       "      <td>2014117N10145</td>\n",
       "      <td>2014-04-30 00:00:00</td>\n",
       "      <td>18.7</td>\n",
       "      <td>147.3</td>\n",
       "      <td>-0.797088</td>\n",
       "      <td>0.511721</td>\n",
       "      <td>0.320613</td>\n",
       "    </tr>\n",
       "    <tr>\n",
       "      <th>223563</th>\n",
       "      <td>2014117N10145</td>\n",
       "      <td>2014-04-30 03:00:00</td>\n",
       "      <td>19.0</td>\n",
       "      <td>147.3</td>\n",
       "      <td>-0.795664</td>\n",
       "      <td>0.510807</td>\n",
       "      <td>0.325568</td>\n",
       "    </tr>\n",
       "    <tr>\n",
       "      <th>223564</th>\n",
       "      <td>2014117N10145</td>\n",
       "      <td>2014-04-30 06:00:00</td>\n",
       "      <td>19.3</td>\n",
       "      <td>147.2</td>\n",
       "      <td>-0.793328</td>\n",
       "      <td>0.511265</td>\n",
       "      <td>0.330514</td>\n",
       "    </tr>\n",
       "    <tr>\n",
       "      <th>223565</th>\n",
       "      <td>2014117N10145</td>\n",
       "      <td>2014-04-30 09:00:00</td>\n",
       "      <td>19.5</td>\n",
       "      <td>147.0</td>\n",
       "      <td>-0.790566</td>\n",
       "      <td>0.513399</td>\n",
       "      <td>0.333807</td>\n",
       "    </tr>\n",
       "    <tr>\n",
       "      <th>223566</th>\n",
       "      <td>2014117N10145</td>\n",
       "      <td>2014-04-30 12:00:00</td>\n",
       "      <td>19.8</td>\n",
       "      <td>146.8</td>\n",
       "      <td>-0.787295</td>\n",
       "      <td>0.515192</td>\n",
       "      <td>0.338738</td>\n",
       "    </tr>\n",
       "    <tr>\n",
       "      <th>223567</th>\n",
       "      <td>2014117N10145</td>\n",
       "      <td>2014-04-30 15:00:00</td>\n",
       "      <td>20.2</td>\n",
       "      <td>146.5</td>\n",
       "      <td>-0.782596</td>\n",
       "      <td>0.517989</td>\n",
       "      <td>0.345298</td>\n",
       "    </tr>\n",
       "    <tr>\n",
       "      <th>223568</th>\n",
       "      <td>2014117N10145</td>\n",
       "      <td>2014-04-30 18:00:00</td>\n",
       "      <td>20.6</td>\n",
       "      <td>146.1</td>\n",
       "      <td>-0.776941</td>\n",
       "      <td>0.522083</td>\n",
       "      <td>0.351842</td>\n",
       "    </tr>\n",
       "    <tr>\n",
       "      <th>223569</th>\n",
       "      <td>2014117N10145</td>\n",
       "      <td>2014-04-30 21:00:00</td>\n",
       "      <td>21.0</td>\n",
       "      <td>145.6</td>\n",
       "      <td>-0.770310</td>\n",
       "      <td>0.527442</td>\n",
       "      <td>0.358368</td>\n",
       "    </tr>\n",
       "    <tr>\n",
       "      <th>223570</th>\n",
       "      <td>2014117N10145</td>\n",
       "      <td>2014-05-01 00:00:00</td>\n",
       "      <td>21.3</td>\n",
       "      <td>145.2</td>\n",
       "      <td>-0.765058</td>\n",
       "      <td>0.531729</td>\n",
       "      <td>0.363251</td>\n",
       "    </tr>\n",
       "    <tr>\n",
       "      <th>223571</th>\n",
       "      <td>2014117N10145</td>\n",
       "      <td>2014-05-01 03:00:00</td>\n",
       "      <td>21.7</td>\n",
       "      <td>144.8</td>\n",
       "      <td>-0.759236</td>\n",
       "      <td>0.535582</td>\n",
       "      <td>0.369747</td>\n",
       "    </tr>\n",
       "    <tr>\n",
       "      <th>223572</th>\n",
       "      <td>2014117N10145</td>\n",
       "      <td>2014-05-01 06:00:00</td>\n",
       "      <td>22.0</td>\n",
       "      <td>144.4</td>\n",
       "      <td>-0.753894</td>\n",
       "      <td>0.539735</td>\n",
       "      <td>0.374607</td>\n",
       "    </tr>\n",
       "    <tr>\n",
       "      <th>223573</th>\n",
       "      <td>2014117N10145</td>\n",
       "      <td>2014-05-01 09:00:00</td>\n",
       "      <td>22.4</td>\n",
       "      <td>144.0</td>\n",
       "      <td>-0.747973</td>\n",
       "      <td>0.543435</td>\n",
       "      <td>0.381070</td>\n",
       "    </tr>\n",
       "    <tr>\n",
       "      <th>223574</th>\n",
       "      <td>2014117N10145</td>\n",
       "      <td>2014-05-01 12:00:00</td>\n",
       "      <td>22.8</td>\n",
       "      <td>143.7</td>\n",
       "      <td>-0.742956</td>\n",
       "      <td>0.545755</td>\n",
       "      <td>0.387516</td>\n",
       "    </tr>\n",
       "    <tr>\n",
       "      <th>223575</th>\n",
       "      <td>2014117N10145</td>\n",
       "      <td>2014-05-01 15:00:00</td>\n",
       "      <td>23.2</td>\n",
       "      <td>143.7</td>\n",
       "      <td>-0.740757</td>\n",
       "      <td>0.544140</td>\n",
       "      <td>0.393942</td>\n",
       "    </tr>\n",
       "    <tr>\n",
       "      <th>223576</th>\n",
       "      <td>2014117N10145</td>\n",
       "      <td>2014-05-01 18:00:00</td>\n",
       "      <td>23.6</td>\n",
       "      <td>143.9</td>\n",
       "      <td>-0.740412</td>\n",
       "      <td>0.539918</td>\n",
       "      <td>0.400349</td>\n",
       "    </tr>\n",
       "    <tr>\n",
       "      <th>223577</th>\n",
       "      <td>2014117N10145</td>\n",
       "      <td>2014-05-01 21:00:00</td>\n",
       "      <td>23.9</td>\n",
       "      <td>144.0</td>\n",
       "      <td>-0.739647</td>\n",
       "      <td>0.537385</td>\n",
       "      <td>0.405142</td>\n",
       "    </tr>\n",
       "    <tr>\n",
       "      <th>223578</th>\n",
       "      <td>2014117N10145</td>\n",
       "      <td>2014-05-02 00:00:00</td>\n",
       "      <td>24.1</td>\n",
       "      <td>144.2</td>\n",
       "      <td>-0.740367</td>\n",
       "      <td>0.533969</td>\n",
       "      <td>0.408330</td>\n",
       "    </tr>\n",
       "    <tr>\n",
       "      <th>223579</th>\n",
       "      <td>2014117N10145</td>\n",
       "      <td>2014-05-02 03:00:00</td>\n",
       "      <td>24.5</td>\n",
       "      <td>144.6</td>\n",
       "      <td>-0.741735</td>\n",
       "      <td>0.527123</td>\n",
       "      <td>0.414693</td>\n",
       "    </tr>\n",
       "    <tr>\n",
       "      <th>223580</th>\n",
       "      <td>2014117N10145</td>\n",
       "      <td>2014-05-02 06:00:00</td>\n",
       "      <td>24.9</td>\n",
       "      <td>145.1</td>\n",
       "      <td>-0.743914</td>\n",
       "      <td>0.518961</td>\n",
       "      <td>0.421036</td>\n",
       "    </tr>\n",
       "  </tbody>\n",
       "</table>\n",
       "</div>"
      ],
      "text/plain": [
       "                  SID            ISO_TIME   LAT    LON         x         y  \\\n",
       "223534  2014117N10145 2014-04-26 12:00:00  10.0  145.3 -0.809654  0.560631   \n",
       "223535  2014117N10145 2014-04-26 15:00:00  10.1  145.6 -0.812327  0.556212   \n",
       "223536  2014117N10145 2014-04-26 18:00:00  10.2  145.8 -0.814009  0.553200   \n",
       "223537  2014117N10145 2014-04-26 21:00:00  10.3  146.0 -0.815678  0.550182   \n",
       "223538  2014117N10145 2014-04-27 00:00:00  10.3  146.2 -0.817593  0.547331   \n",
       "223539  2014117N10145 2014-04-27 03:00:00  10.5  146.4 -0.818974  0.544125   \n",
       "223540  2014117N10145 2014-04-27 06:00:00  10.7  146.5 -0.819387  0.542340   \n",
       "223541  2014117N10145 2014-04-27 09:00:00  11.0  146.6 -0.819509  0.540367   \n",
       "223542  2014117N10145 2014-04-27 12:00:00  11.4  146.7 -0.819318  0.538191   \n",
       "223543  2014117N10145 2014-04-27 15:00:00  11.7  146.8 -0.819379  0.536186   \n",
       "223544  2014117N10145 2014-04-27 18:00:00  12.0  146.9 -0.819413  0.534168   \n",
       "223545  2014117N10145 2014-04-27 21:00:00  12.2  146.9 -0.818800  0.533769   \n",
       "223546  2014117N10145 2014-04-28 00:00:00  12.5  147.0 -0.818791  0.531729   \n",
       "223547  2014117N10145 2014-04-28 03:00:00  12.8  147.1 -0.818755  0.529676   \n",
       "223548  2014117N10145 2014-04-28 06:00:00  13.2  147.2 -0.818358  0.527396   \n",
       "223549  2014117N10145 2014-04-28 09:00:00  13.6  147.4 -0.818831  0.523664   \n",
       "223550  2014117N10145 2014-04-28 12:00:00  14.0  147.5 -0.818339  0.521340   \n",
       "223551  2014117N10145 2014-04-28 15:00:00  14.4  147.5 -0.816895  0.520419   \n",
       "223552  2014117N10145 2014-04-28 18:00:00  14.8  147.5 -0.815411  0.519474   \n",
       "223553  2014117N10145 2014-04-28 21:00:00  15.2  147.4 -0.812980  0.519923   \n",
       "223554  2014117N10145 2014-04-29 00:00:00  15.6  147.4 -0.811419  0.518924   \n",
       "223555  2014117N10145 2014-04-29 03:00:00  16.1  147.3 -0.808506  0.519052   \n",
       "223556  2014117N10145 2014-04-29 06:00:00  16.5  147.4 -0.807760  0.516584   \n",
       "223557  2014117N10145 2014-04-29 09:00:00  16.8  147.4 -0.806496  0.515776   \n",
       "223558  2014117N10145 2014-04-29 12:00:00  17.2  147.5 -0.805674  0.513271   \n",
       "223559  2014117N10145 2014-04-29 15:00:00  17.6  147.5 -0.803913  0.512149   \n",
       "223560  2014117N10145 2014-04-29 18:00:00  18.1  147.5 -0.801657  0.510712   \n",
       "223561  2014117N10145 2014-04-29 21:00:00  18.4  147.4 -0.799383  0.511227   \n",
       "223562  2014117N10145 2014-04-30 00:00:00  18.7  147.3 -0.797088  0.511721   \n",
       "223563  2014117N10145 2014-04-30 03:00:00  19.0  147.3 -0.795664  0.510807   \n",
       "223564  2014117N10145 2014-04-30 06:00:00  19.3  147.2 -0.793328  0.511265   \n",
       "223565  2014117N10145 2014-04-30 09:00:00  19.5  147.0 -0.790566  0.513399   \n",
       "223566  2014117N10145 2014-04-30 12:00:00  19.8  146.8 -0.787295  0.515192   \n",
       "223567  2014117N10145 2014-04-30 15:00:00  20.2  146.5 -0.782596  0.517989   \n",
       "223568  2014117N10145 2014-04-30 18:00:00  20.6  146.1 -0.776941  0.522083   \n",
       "223569  2014117N10145 2014-04-30 21:00:00  21.0  145.6 -0.770310  0.527442   \n",
       "223570  2014117N10145 2014-05-01 00:00:00  21.3  145.2 -0.765058  0.531729   \n",
       "223571  2014117N10145 2014-05-01 03:00:00  21.7  144.8 -0.759236  0.535582   \n",
       "223572  2014117N10145 2014-05-01 06:00:00  22.0  144.4 -0.753894  0.539735   \n",
       "223573  2014117N10145 2014-05-01 09:00:00  22.4  144.0 -0.747973  0.543435   \n",
       "223574  2014117N10145 2014-05-01 12:00:00  22.8  143.7 -0.742956  0.545755   \n",
       "223575  2014117N10145 2014-05-01 15:00:00  23.2  143.7 -0.740757  0.544140   \n",
       "223576  2014117N10145 2014-05-01 18:00:00  23.6  143.9 -0.740412  0.539918   \n",
       "223577  2014117N10145 2014-05-01 21:00:00  23.9  144.0 -0.739647  0.537385   \n",
       "223578  2014117N10145 2014-05-02 00:00:00  24.1  144.2 -0.740367  0.533969   \n",
       "223579  2014117N10145 2014-05-02 03:00:00  24.5  144.6 -0.741735  0.527123   \n",
       "223580  2014117N10145 2014-05-02 06:00:00  24.9  145.1 -0.743914  0.518961   \n",
       "\n",
       "               z  \n",
       "223534  0.173648  \n",
       "223535  0.175367  \n",
       "223536  0.177085  \n",
       "223537  0.178802  \n",
       "223538  0.178802  \n",
       "223539  0.182236  \n",
       "223540  0.185667  \n",
       "223541  0.190809  \n",
       "223542  0.197657  \n",
       "223543  0.202787  \n",
       "223544  0.207912  \n",
       "223545  0.211325  \n",
       "223546  0.216440  \n",
       "223547  0.221548  \n",
       "223548  0.228351  \n",
       "223549  0.235142  \n",
       "223550  0.241922  \n",
       "223551  0.248690  \n",
       "223552  0.255446  \n",
       "223553  0.262189  \n",
       "223554  0.268920  \n",
       "223555  0.277315  \n",
       "223556  0.284015  \n",
       "223557  0.289032  \n",
       "223558  0.295708  \n",
       "223559  0.302370  \n",
       "223560  0.310676  \n",
       "223561  0.315649  \n",
       "223562  0.320613  \n",
       "223563  0.325568  \n",
       "223564  0.330514  \n",
       "223565  0.333807  \n",
       "223566  0.338738  \n",
       "223567  0.345298  \n",
       "223568  0.351842  \n",
       "223569  0.358368  \n",
       "223570  0.363251  \n",
       "223571  0.369747  \n",
       "223572  0.374607  \n",
       "223573  0.381070  \n",
       "223574  0.387516  \n",
       "223575  0.393942  \n",
       "223576  0.400349  \n",
       "223577  0.405142  \n",
       "223578  0.408330  \n",
       "223579  0.414693  \n",
       "223580  0.421036  "
      ]
     },
     "execution_count": 62,
     "metadata": {},
     "output_type": "execute_result"
    }
   ],
   "source": [
    "track_lat_lon"
   ]
  },
  {
   "cell_type": "code",
   "execution_count": null,
   "id": "06920e78-e121-43dd-98ba-34ca0ffae650",
   "metadata": {},
   "outputs": [],
   "source": []
  }
 ],
 "metadata": {
  "kernelspec": {
   "display_name": "Python 3 (ipykernel)",
   "language": "python",
   "name": "python3"
  },
  "language_info": {
   "codemirror_mode": {
    "name": "ipython",
    "version": 3
   },
   "file_extension": ".py",
   "mimetype": "text/x-python",
   "name": "python",
   "nbconvert_exporter": "python",
   "pygments_lexer": "ipython3",
   "version": "3.12.5"
  }
 },
 "nbformat": 4,
 "nbformat_minor": 5
}
